{
 "cells": [
  {
   "cell_type": "markdown",
   "id": "c0dfcb86",
   "metadata": {},
   "source": [
    "## А/В - тестирование.\n",
    "\n",
    "**Цель:** Оценка результатов А/В - теста после внедрения улучшенной рекомендательной системы.\n",
    "    \n",
    "**Техническое задание:**\n",
    "\n",
    "- название теста: `recommender_system_test`;\n",
    "- группы: А — контрольная, B — новая платёжная воронка;\n",
    "- дата запуска: 2020-12-07;\n",
    "- дата остановки набора новых пользователей: 2020-12-21;\n",
    "- дата остановки: 2021-01-04;\n",
    "- аудитория: в тест должно быть отобрано 15% новых пользователей из региона EU;\n",
    "- назначение теста: тестирование изменений, связанных с внедрением улучшенной рекомендательной системы;\n",
    "- ожидаемое количество участников теста: 6000.\n",
    "- ожидаемый эффект: за 14 дней с момента регистрации пользователи покажут улучшение каждой метрики не менее, чем на 10%:\n",
    "    - конверсии в просмотр карточек товаров — событие `product_page`,\n",
    "    - просмотры корзины — `product_cart`,\n",
    "    - покупки — `purchase`.\n",
    "    \n",
    "**Описание данных:**\n",
    "\n",
    "`ab_project_marketing_events.csv` — календарь маркетинговых событий на 2020 год.\n",
    "\n",
    "Структура файла:\n",
    "\n",
    "- `name` — название маркетингового события;\n",
    "- `regions` — регионы, в которых будет проводиться рекламная кампания;\n",
    "- `start_dt` — дата начала кампании;\n",
    "- `finish_dt` — дата завершения кампании.\n",
    "\n",
    "`final_ab_new_users.csv` — пользователи, зарегистрировавшиеся с 7 до 21 декабря 2020 года.\n",
    "\n",
    "Структура файла:\n",
    "\n",
    "- `user_id` — идентификатор пользователя;\n",
    "- `first_date` — дата регистрации;\n",
    "- `region` — регион пользователя;\n",
    "- `device` — устройство, с которого происходила регистрация.\n",
    "\n",
    "`final_ab_events.csv` — действия новых пользователей в период с 7 декабря 2020 по 4 января 2021 года.\n",
    "\n",
    "Структура файла:\n",
    "\n",
    "- `user_id` — идентификатор пользователя;\n",
    "- `event_dt` — дата и время события;\n",
    "- `event_name` — тип события;\n",
    "- `details` — дополнительные данные о событии. Например, для покупок, `purchase,` в этом поле хранится стоимость покупки в долларах.\n",
    "\n",
    "`final_ab_participants.csv` — таблица участников тестов.\n",
    "\n",
    "Структура файла:\n",
    "\n",
    "- `user_id` — идентификатор пользователя;\n",
    "- `ab_test` — название теста;\n",
    "- `group` — группа пользователя."
   ]
  },
  {
   "cell_type": "markdown",
   "id": "748e6332",
   "metadata": {},
   "source": [
    "**План:**\n",
    "\n",
    "*Шаг 1.* Первичная оценка данных, предобработка:\n",
    "\n",
    "- оформление/стиль,\n",
    "- типы данных,\n",
    "- наличие пропусков, их природа?\n",
    "- наличие/отсуствие дубликатов.\n",
    "\n",
    "*Шаг 2.* Оценка корректности проведения теста: \n",
    "\n",
    "- соответствие данных требованиям технического задания,\n",
    "- время проведения теста, убедимся что оно не совпадает с маркетинговыми и другими активностями,\n",
    "- аудитория теста, убедимся, что нет пересечений с конкурирующим тестом и нет пользователей, участвующих в двух группах теста одновременно. Проверим равномерность распределения по тестовым группам и правильность их формирования.\n",
    "\n",
    "*Шаг 3.* Исследовательский анализ данных:\n",
    "\n",
    "- Количество событий на пользователя одинаково распределены в выборках?\n",
    "- Как число событий в выборках распределено по дням?\n",
    "- Как меняется конверсия в воронке в выборках на разных этапах?\n",
    "- Какие особенности данных нужно учесть, прежде чем приступать к A/B-тестированию?\n",
    "\n",
    "*Шаг 4.* Оценка результатов A/B-тестирования,проверка гипотез: \n",
    "    \n",
    "- охарактеризуем результаты A/В-тестирования,\n",
    "- проверим статистическую разницу долей z-критерием,\n",
    "- проверим гипотезы.\n",
    "\n",
    "*Шаг 5.* Общие выводы и заключение. \n",
    "\n",
    "- опишем выводы по этапу исследовательского анализа данных и по проведённой оценке результатов A/B-тестирования. Сделаем общее заключение о корректности проведения теста."
   ]
  },
  {
   "cell_type": "code",
   "execution_count": 1,
   "id": "e1b577e7",
   "metadata": {},
   "outputs": [],
   "source": [
    "# выгрузим все необходимые библиотеки \n",
    "import pandas as pd\n",
    "import numpy as np\n",
    "import math as mth\n",
    "import seaborn as sns\n",
    "import matplotlib.pyplot as plt\n",
    "import plotly.express as px\n",
    "from plotly import graph_objects as go\n",
    "import plotly.io as pio\n",
    "pio.renderers.default = \"png\"\n",
    "import scipy.stats as stats\n",
    "import datetime as dt\n",
    "from datetime import datetime, timedelta\n",
    "pd.set_option('mode.chained_assignment', None)"
   ]
  },
  {
   "cell_type": "code",
   "execution_count": 2,
   "id": "f2a18c58",
   "metadata": {},
   "outputs": [],
   "source": [
    "try:\n",
    "    events = pd.read_csv('final_ab_events.csv')\n",
    "    users = pd.read_csv('final_ab_new_users.csv')\n",
    "    participants = pd.read_csv('final_ab_participants.csv')\n",
    "    project_marketing = pd.read_csv('ab_project_marketing_events .csv')\n",
    "except:\n",
    "    events = pd.read_csv('/datasets/final_ab_events.csv')\n",
    "    users = pd.read_csv('/datasets/final_ab_new_users.csv')\n",
    "    participants = pd.read_csv('/datasets/final_ab_participants.csv')\n",
    "    project_marketing = pd.read_csv('/datasets/ab_project_marketing_events.csv')"
   ]
  },
  {
   "cell_type": "markdown",
   "id": "0ed47cbc",
   "metadata": {},
   "source": [
    "#### Шаг 1. Первичная оценка данных, предобработка."
   ]
  },
  {
   "cell_type": "code",
   "execution_count": 3,
   "id": "1e7893cd",
   "metadata": {},
   "outputs": [],
   "source": [
    "# создадим функцию, чтобы была возможность в один шаг увидеть всю общую информацию\n",
    "\n",
    "def common_info(df):\n",
    "    df.info() \n",
    "    print('\\nПервые строки')\n",
    "    display(df.head()),\n",
    "    print('Распределение данных'),\n",
    "    display(df.describe()),\n",
    "    print('Пропуски'),\n",
    "    display(df.isna().sum()),\n",
    "    print('Дубликаты'),\n",
    "    display(df.duplicated().sum())"
   ]
  },
  {
   "cell_type": "code",
   "execution_count": 4,
   "id": "748211bd",
   "metadata": {},
   "outputs": [
    {
     "name": "stdout",
     "output_type": "stream",
     "text": [
      "<class 'pandas.core.frame.DataFrame'>\n",
      "RangeIndex: 440317 entries, 0 to 440316\n",
      "Data columns (total 4 columns):\n",
      " #   Column      Non-Null Count   Dtype  \n",
      "---  ------      --------------   -----  \n",
      " 0   user_id     440317 non-null  object \n",
      " 1   event_dt    440317 non-null  object \n",
      " 2   event_name  440317 non-null  object \n",
      " 3   details     62740 non-null   float64\n",
      "dtypes: float64(1), object(3)\n",
      "memory usage: 13.4+ MB\n",
      "\n",
      "Первые строки\n"
     ]
    },
    {
     "data": {
      "text/html": [
       "<div>\n",
       "<style scoped>\n",
       "    .dataframe tbody tr th:only-of-type {\n",
       "        vertical-align: middle;\n",
       "    }\n",
       "\n",
       "    .dataframe tbody tr th {\n",
       "        vertical-align: top;\n",
       "    }\n",
       "\n",
       "    .dataframe thead th {\n",
       "        text-align: right;\n",
       "    }\n",
       "</style>\n",
       "<table border=\"1\" class=\"dataframe\">\n",
       "  <thead>\n",
       "    <tr style=\"text-align: right;\">\n",
       "      <th></th>\n",
       "      <th>user_id</th>\n",
       "      <th>event_dt</th>\n",
       "      <th>event_name</th>\n",
       "      <th>details</th>\n",
       "    </tr>\n",
       "  </thead>\n",
       "  <tbody>\n",
       "    <tr>\n",
       "      <th>0</th>\n",
       "      <td>E1BDDCE0DAFA2679</td>\n",
       "      <td>2020-12-07 20:22:03</td>\n",
       "      <td>purchase</td>\n",
       "      <td>99.99</td>\n",
       "    </tr>\n",
       "    <tr>\n",
       "      <th>1</th>\n",
       "      <td>7B6452F081F49504</td>\n",
       "      <td>2020-12-07 09:22:53</td>\n",
       "      <td>purchase</td>\n",
       "      <td>9.99</td>\n",
       "    </tr>\n",
       "    <tr>\n",
       "      <th>2</th>\n",
       "      <td>9CD9F34546DF254C</td>\n",
       "      <td>2020-12-07 12:59:29</td>\n",
       "      <td>purchase</td>\n",
       "      <td>4.99</td>\n",
       "    </tr>\n",
       "    <tr>\n",
       "      <th>3</th>\n",
       "      <td>96F27A054B191457</td>\n",
       "      <td>2020-12-07 04:02:40</td>\n",
       "      <td>purchase</td>\n",
       "      <td>4.99</td>\n",
       "    </tr>\n",
       "    <tr>\n",
       "      <th>4</th>\n",
       "      <td>1FD7660FDF94CA1F</td>\n",
       "      <td>2020-12-07 10:15:09</td>\n",
       "      <td>purchase</td>\n",
       "      <td>4.99</td>\n",
       "    </tr>\n",
       "  </tbody>\n",
       "</table>\n",
       "</div>"
      ],
      "text/plain": [
       "            user_id             event_dt event_name  details\n",
       "0  E1BDDCE0DAFA2679  2020-12-07 20:22:03   purchase    99.99\n",
       "1  7B6452F081F49504  2020-12-07 09:22:53   purchase     9.99\n",
       "2  9CD9F34546DF254C  2020-12-07 12:59:29   purchase     4.99\n",
       "3  96F27A054B191457  2020-12-07 04:02:40   purchase     4.99\n",
       "4  1FD7660FDF94CA1F  2020-12-07 10:15:09   purchase     4.99"
      ]
     },
     "metadata": {},
     "output_type": "display_data"
    },
    {
     "name": "stdout",
     "output_type": "stream",
     "text": [
      "Распределение данных\n"
     ]
    },
    {
     "data": {
      "text/html": [
       "<div>\n",
       "<style scoped>\n",
       "    .dataframe tbody tr th:only-of-type {\n",
       "        vertical-align: middle;\n",
       "    }\n",
       "\n",
       "    .dataframe tbody tr th {\n",
       "        vertical-align: top;\n",
       "    }\n",
       "\n",
       "    .dataframe thead th {\n",
       "        text-align: right;\n",
       "    }\n",
       "</style>\n",
       "<table border=\"1\" class=\"dataframe\">\n",
       "  <thead>\n",
       "    <tr style=\"text-align: right;\">\n",
       "      <th></th>\n",
       "      <th>details</th>\n",
       "    </tr>\n",
       "  </thead>\n",
       "  <tbody>\n",
       "    <tr>\n",
       "      <th>count</th>\n",
       "      <td>62740.000000</td>\n",
       "    </tr>\n",
       "    <tr>\n",
       "      <th>mean</th>\n",
       "      <td>23.877631</td>\n",
       "    </tr>\n",
       "    <tr>\n",
       "      <th>std</th>\n",
       "      <td>72.180465</td>\n",
       "    </tr>\n",
       "    <tr>\n",
       "      <th>min</th>\n",
       "      <td>4.990000</td>\n",
       "    </tr>\n",
       "    <tr>\n",
       "      <th>25%</th>\n",
       "      <td>4.990000</td>\n",
       "    </tr>\n",
       "    <tr>\n",
       "      <th>50%</th>\n",
       "      <td>4.990000</td>\n",
       "    </tr>\n",
       "    <tr>\n",
       "      <th>75%</th>\n",
       "      <td>9.990000</td>\n",
       "    </tr>\n",
       "    <tr>\n",
       "      <th>max</th>\n",
       "      <td>499.990000</td>\n",
       "    </tr>\n",
       "  </tbody>\n",
       "</table>\n",
       "</div>"
      ],
      "text/plain": [
       "            details\n",
       "count  62740.000000\n",
       "mean      23.877631\n",
       "std       72.180465\n",
       "min        4.990000\n",
       "25%        4.990000\n",
       "50%        4.990000\n",
       "75%        9.990000\n",
       "max      499.990000"
      ]
     },
     "metadata": {},
     "output_type": "display_data"
    },
    {
     "name": "stdout",
     "output_type": "stream",
     "text": [
      "Пропуски\n"
     ]
    },
    {
     "data": {
      "text/plain": [
       "user_id            0\n",
       "event_dt           0\n",
       "event_name         0\n",
       "details       377577\n",
       "dtype: int64"
      ]
     },
     "metadata": {},
     "output_type": "display_data"
    },
    {
     "name": "stdout",
     "output_type": "stream",
     "text": [
      "Дубликаты\n"
     ]
    },
    {
     "data": {
      "text/plain": [
       "0"
      ]
     },
     "metadata": {},
     "output_type": "display_data"
    }
   ],
   "source": [
    "common_info(events)"
   ]
  },
  {
   "cell_type": "code",
   "execution_count": 5,
   "id": "e8991eb2",
   "metadata": {},
   "outputs": [
    {
     "data": {
      "text/plain": [
       "array(['purchase', 'product_cart', 'product_page', 'login'], dtype=object)"
      ]
     },
     "metadata": {},
     "output_type": "display_data"
    }
   ],
   "source": [
    "# посмотрим на все возможные события, хранящиеся в event_name\n",
    "display(events['event_name'].unique())"
   ]
  },
  {
   "cell_type": "code",
   "execution_count": 6,
   "id": "81e41900",
   "metadata": {},
   "outputs": [
    {
     "data": {
      "text/plain": [
       "event_name\n",
       "login           189552\n",
       "product_cart     62462\n",
       "product_page    125563\n",
       "Name: event_dt, dtype: int64"
      ]
     },
     "execution_count": 6,
     "metadata": {},
     "output_type": "execute_result"
    }
   ],
   "source": [
    "# посмотрим прицельно на поле details, где есть пропуски; какие им соответствуют события?\n",
    "no_details = events[events['details'].isnull()]\n",
    "no_details.groupby('event_name')['event_dt'].count()"
   ]
  },
  {
   "cell_type": "markdown",
   "id": "65c7054c",
   "metadata": {},
   "source": [
    "**Вывод:** \n",
    "- таблица содержит *440317* событий;\n",
    "- 4 вида событий: авторизация, просмотр карточек товаров, просмотр корзины, покупка;\n",
    "- event_dt имеет тип object, необходимо его преобразовать;\n",
    "- полных дубликатов не найдено;\n",
    "- пропуски есть в details(377577). Все пропуски в details соответствуют 3/4 событий - кроме покупки - *purchase*. Т.е. можно сделать вывод, что details могут быть заполнены только при покупке(содержит стоимость покупки в долларах). Поэтому, делаем вывод, что пропуски не случайны. Относим их к категории *MNAR* (Missing Not At Random / Отсутствует не случайно); отбрасывать/заполнять не будем."
   ]
  },
  {
   "cell_type": "code",
   "execution_count": 7,
   "id": "80def046",
   "metadata": {
    "scrolled": true
   },
   "outputs": [
    {
     "name": "stdout",
     "output_type": "stream",
     "text": [
      "<class 'pandas.core.frame.DataFrame'>\n",
      "RangeIndex: 440317 entries, 0 to 440316\n",
      "Data columns (total 4 columns):\n",
      " #   Column      Non-Null Count   Dtype         \n",
      "---  ------      --------------   -----         \n",
      " 0   user_id     440317 non-null  object        \n",
      " 1   event_dt    440317 non-null  datetime64[ns]\n",
      " 2   event_name  440317 non-null  object        \n",
      " 3   details     62740 non-null   float64       \n",
      "dtypes: datetime64[ns](1), float64(1), object(2)\n",
      "memory usage: 13.4+ MB\n"
     ]
    }
   ],
   "source": [
    "# изменим тип данных в event_dt\n",
    "events['event_dt'] = pd.to_datetime(events['event_dt'], format = '%Y-%m-%d %H:%M:%S')\n",
    "\n",
    "# проверим изменения\n",
    "events.info()"
   ]
  },
  {
   "cell_type": "code",
   "execution_count": 8,
   "id": "11a69ca3",
   "metadata": {},
   "outputs": [
    {
     "name": "stdout",
     "output_type": "stream",
     "text": [
      "<class 'pandas.core.frame.DataFrame'>\n",
      "RangeIndex: 61733 entries, 0 to 61732\n",
      "Data columns (total 4 columns):\n",
      " #   Column      Non-Null Count  Dtype \n",
      "---  ------      --------------  ----- \n",
      " 0   user_id     61733 non-null  object\n",
      " 1   first_date  61733 non-null  object\n",
      " 2   region      61733 non-null  object\n",
      " 3   device      61733 non-null  object\n",
      "dtypes: object(4)\n",
      "memory usage: 1.9+ MB\n",
      "\n",
      "Первые строки\n"
     ]
    },
    {
     "data": {
      "text/html": [
       "<div>\n",
       "<style scoped>\n",
       "    .dataframe tbody tr th:only-of-type {\n",
       "        vertical-align: middle;\n",
       "    }\n",
       "\n",
       "    .dataframe tbody tr th {\n",
       "        vertical-align: top;\n",
       "    }\n",
       "\n",
       "    .dataframe thead th {\n",
       "        text-align: right;\n",
       "    }\n",
       "</style>\n",
       "<table border=\"1\" class=\"dataframe\">\n",
       "  <thead>\n",
       "    <tr style=\"text-align: right;\">\n",
       "      <th></th>\n",
       "      <th>user_id</th>\n",
       "      <th>first_date</th>\n",
       "      <th>region</th>\n",
       "      <th>device</th>\n",
       "    </tr>\n",
       "  </thead>\n",
       "  <tbody>\n",
       "    <tr>\n",
       "      <th>0</th>\n",
       "      <td>D72A72121175D8BE</td>\n",
       "      <td>2020-12-07</td>\n",
       "      <td>EU</td>\n",
       "      <td>PC</td>\n",
       "    </tr>\n",
       "    <tr>\n",
       "      <th>1</th>\n",
       "      <td>F1C668619DFE6E65</td>\n",
       "      <td>2020-12-07</td>\n",
       "      <td>N.America</td>\n",
       "      <td>Android</td>\n",
       "    </tr>\n",
       "    <tr>\n",
       "      <th>2</th>\n",
       "      <td>2E1BF1D4C37EA01F</td>\n",
       "      <td>2020-12-07</td>\n",
       "      <td>EU</td>\n",
       "      <td>PC</td>\n",
       "    </tr>\n",
       "    <tr>\n",
       "      <th>3</th>\n",
       "      <td>50734A22C0C63768</td>\n",
       "      <td>2020-12-07</td>\n",
       "      <td>EU</td>\n",
       "      <td>iPhone</td>\n",
       "    </tr>\n",
       "    <tr>\n",
       "      <th>4</th>\n",
       "      <td>E1BDDCE0DAFA2679</td>\n",
       "      <td>2020-12-07</td>\n",
       "      <td>N.America</td>\n",
       "      <td>iPhone</td>\n",
       "    </tr>\n",
       "  </tbody>\n",
       "</table>\n",
       "</div>"
      ],
      "text/plain": [
       "            user_id  first_date     region   device\n",
       "0  D72A72121175D8BE  2020-12-07         EU       PC\n",
       "1  F1C668619DFE6E65  2020-12-07  N.America  Android\n",
       "2  2E1BF1D4C37EA01F  2020-12-07         EU       PC\n",
       "3  50734A22C0C63768  2020-12-07         EU   iPhone\n",
       "4  E1BDDCE0DAFA2679  2020-12-07  N.America   iPhone"
      ]
     },
     "metadata": {},
     "output_type": "display_data"
    },
    {
     "name": "stdout",
     "output_type": "stream",
     "text": [
      "Распределение данных\n"
     ]
    },
    {
     "data": {
      "text/html": [
       "<div>\n",
       "<style scoped>\n",
       "    .dataframe tbody tr th:only-of-type {\n",
       "        vertical-align: middle;\n",
       "    }\n",
       "\n",
       "    .dataframe tbody tr th {\n",
       "        vertical-align: top;\n",
       "    }\n",
       "\n",
       "    .dataframe thead th {\n",
       "        text-align: right;\n",
       "    }\n",
       "</style>\n",
       "<table border=\"1\" class=\"dataframe\">\n",
       "  <thead>\n",
       "    <tr style=\"text-align: right;\">\n",
       "      <th></th>\n",
       "      <th>user_id</th>\n",
       "      <th>first_date</th>\n",
       "      <th>region</th>\n",
       "      <th>device</th>\n",
       "    </tr>\n",
       "  </thead>\n",
       "  <tbody>\n",
       "    <tr>\n",
       "      <th>count</th>\n",
       "      <td>61733</td>\n",
       "      <td>61733</td>\n",
       "      <td>61733</td>\n",
       "      <td>61733</td>\n",
       "    </tr>\n",
       "    <tr>\n",
       "      <th>unique</th>\n",
       "      <td>61733</td>\n",
       "      <td>17</td>\n",
       "      <td>4</td>\n",
       "      <td>4</td>\n",
       "    </tr>\n",
       "    <tr>\n",
       "      <th>top</th>\n",
       "      <td>D72A72121175D8BE</td>\n",
       "      <td>2020-12-21</td>\n",
       "      <td>EU</td>\n",
       "      <td>Android</td>\n",
       "    </tr>\n",
       "    <tr>\n",
       "      <th>freq</th>\n",
       "      <td>1</td>\n",
       "      <td>6290</td>\n",
       "      <td>46270</td>\n",
       "      <td>27520</td>\n",
       "    </tr>\n",
       "  </tbody>\n",
       "</table>\n",
       "</div>"
      ],
      "text/plain": [
       "                 user_id  first_date region   device\n",
       "count              61733       61733  61733    61733\n",
       "unique             61733          17      4        4\n",
       "top     D72A72121175D8BE  2020-12-21     EU  Android\n",
       "freq                   1        6290  46270    27520"
      ]
     },
     "metadata": {},
     "output_type": "display_data"
    },
    {
     "name": "stdout",
     "output_type": "stream",
     "text": [
      "Пропуски\n"
     ]
    },
    {
     "data": {
      "text/plain": [
       "user_id       0\n",
       "first_date    0\n",
       "region        0\n",
       "device        0\n",
       "dtype: int64"
      ]
     },
     "metadata": {},
     "output_type": "display_data"
    },
    {
     "name": "stdout",
     "output_type": "stream",
     "text": [
      "Дубликаты\n"
     ]
    },
    {
     "data": {
      "text/plain": [
       "0"
      ]
     },
     "metadata": {},
     "output_type": "display_data"
    }
   ],
   "source": [
    "common_info(users)"
   ]
  },
  {
   "cell_type": "code",
   "execution_count": 9,
   "id": "d9ef0b46",
   "metadata": {},
   "outputs": [
    {
     "data": {
      "text/plain": [
       "array(['EU', 'N.America', 'APAC', 'CIS'], dtype=object)"
      ]
     },
     "metadata": {},
     "output_type": "display_data"
    },
    {
     "data": {
      "text/plain": [
       "array(['PC', 'Android', 'iPhone', 'Mac'], dtype=object)"
      ]
     },
     "execution_count": 9,
     "metadata": {},
     "output_type": "execute_result"
    }
   ],
   "source": [
    "# посмотрим на все регионы пользователей\n",
    "display(users['region'].unique())\n",
    "\n",
    "# посмотрим на все устройства, которые используются\n",
    "users['device'].unique()"
   ]
  },
  {
   "cell_type": "markdown",
   "id": "177897c7",
   "metadata": {},
   "source": [
    "**Вывод:**\n",
    "\n",
    "- таблица содержит данные *61733* пользователей;\n",
    "- 4 региона: EU, N.America, APAC, CIS;\n",
    "- 4 вида устройств: PC, Android, iPhone, Mac;\n",
    "-  first_date имеет тип object, необходимо его преобразовать;\n",
    "- полных дубликатов и пропусков не найдено."
   ]
  },
  {
   "cell_type": "code",
   "execution_count": 10,
   "id": "3bee0dd9",
   "metadata": {},
   "outputs": [
    {
     "name": "stdout",
     "output_type": "stream",
     "text": [
      "<class 'pandas.core.frame.DataFrame'>\n",
      "RangeIndex: 61733 entries, 0 to 61732\n",
      "Data columns (total 4 columns):\n",
      " #   Column      Non-Null Count  Dtype         \n",
      "---  ------      --------------  -----         \n",
      " 0   user_id     61733 non-null  object        \n",
      " 1   first_date  61733 non-null  datetime64[ns]\n",
      " 2   region      61733 non-null  object        \n",
      " 3   device      61733 non-null  object        \n",
      "dtypes: datetime64[ns](1), object(3)\n",
      "memory usage: 1.9+ MB\n"
     ]
    }
   ],
   "source": [
    "# изменим тип данных в first_date\n",
    "users['first_date'] = pd.to_datetime(users['first_date'], format = '%Y-%m-%d')\n",
    "\n",
    "# проверим изменения\n",
    "users.info()"
   ]
  },
  {
   "cell_type": "code",
   "execution_count": 11,
   "id": "8162b316",
   "metadata": {},
   "outputs": [
    {
     "name": "stdout",
     "output_type": "stream",
     "text": [
      "<class 'pandas.core.frame.DataFrame'>\n",
      "RangeIndex: 18268 entries, 0 to 18267\n",
      "Data columns (total 3 columns):\n",
      " #   Column   Non-Null Count  Dtype \n",
      "---  ------   --------------  ----- \n",
      " 0   user_id  18268 non-null  object\n",
      " 1   group    18268 non-null  object\n",
      " 2   ab_test  18268 non-null  object\n",
      "dtypes: object(3)\n",
      "memory usage: 428.3+ KB\n",
      "\n",
      "Первые строки\n"
     ]
    },
    {
     "data": {
      "text/html": [
       "<div>\n",
       "<style scoped>\n",
       "    .dataframe tbody tr th:only-of-type {\n",
       "        vertical-align: middle;\n",
       "    }\n",
       "\n",
       "    .dataframe tbody tr th {\n",
       "        vertical-align: top;\n",
       "    }\n",
       "\n",
       "    .dataframe thead th {\n",
       "        text-align: right;\n",
       "    }\n",
       "</style>\n",
       "<table border=\"1\" class=\"dataframe\">\n",
       "  <thead>\n",
       "    <tr style=\"text-align: right;\">\n",
       "      <th></th>\n",
       "      <th>user_id</th>\n",
       "      <th>group</th>\n",
       "      <th>ab_test</th>\n",
       "    </tr>\n",
       "  </thead>\n",
       "  <tbody>\n",
       "    <tr>\n",
       "      <th>0</th>\n",
       "      <td>D1ABA3E2887B6A73</td>\n",
       "      <td>A</td>\n",
       "      <td>recommender_system_test</td>\n",
       "    </tr>\n",
       "    <tr>\n",
       "      <th>1</th>\n",
       "      <td>A7A3664BD6242119</td>\n",
       "      <td>A</td>\n",
       "      <td>recommender_system_test</td>\n",
       "    </tr>\n",
       "    <tr>\n",
       "      <th>2</th>\n",
       "      <td>DABC14FDDFADD29E</td>\n",
       "      <td>A</td>\n",
       "      <td>recommender_system_test</td>\n",
       "    </tr>\n",
       "    <tr>\n",
       "      <th>3</th>\n",
       "      <td>04988C5DF189632E</td>\n",
       "      <td>A</td>\n",
       "      <td>recommender_system_test</td>\n",
       "    </tr>\n",
       "    <tr>\n",
       "      <th>4</th>\n",
       "      <td>482F14783456D21B</td>\n",
       "      <td>B</td>\n",
       "      <td>recommender_system_test</td>\n",
       "    </tr>\n",
       "  </tbody>\n",
       "</table>\n",
       "</div>"
      ],
      "text/plain": [
       "            user_id group                  ab_test\n",
       "0  D1ABA3E2887B6A73     A  recommender_system_test\n",
       "1  A7A3664BD6242119     A  recommender_system_test\n",
       "2  DABC14FDDFADD29E     A  recommender_system_test\n",
       "3  04988C5DF189632E     A  recommender_system_test\n",
       "4  482F14783456D21B     B  recommender_system_test"
      ]
     },
     "metadata": {},
     "output_type": "display_data"
    },
    {
     "name": "stdout",
     "output_type": "stream",
     "text": [
      "Распределение данных\n"
     ]
    },
    {
     "data": {
      "text/html": [
       "<div>\n",
       "<style scoped>\n",
       "    .dataframe tbody tr th:only-of-type {\n",
       "        vertical-align: middle;\n",
       "    }\n",
       "\n",
       "    .dataframe tbody tr th {\n",
       "        vertical-align: top;\n",
       "    }\n",
       "\n",
       "    .dataframe thead th {\n",
       "        text-align: right;\n",
       "    }\n",
       "</style>\n",
       "<table border=\"1\" class=\"dataframe\">\n",
       "  <thead>\n",
       "    <tr style=\"text-align: right;\">\n",
       "      <th></th>\n",
       "      <th>user_id</th>\n",
       "      <th>group</th>\n",
       "      <th>ab_test</th>\n",
       "    </tr>\n",
       "  </thead>\n",
       "  <tbody>\n",
       "    <tr>\n",
       "      <th>count</th>\n",
       "      <td>18268</td>\n",
       "      <td>18268</td>\n",
       "      <td>18268</td>\n",
       "    </tr>\n",
       "    <tr>\n",
       "      <th>unique</th>\n",
       "      <td>16666</td>\n",
       "      <td>2</td>\n",
       "      <td>2</td>\n",
       "    </tr>\n",
       "    <tr>\n",
       "      <th>top</th>\n",
       "      <td>0FDFDA0B2DEC2D91</td>\n",
       "      <td>A</td>\n",
       "      <td>interface_eu_test</td>\n",
       "    </tr>\n",
       "    <tr>\n",
       "      <th>freq</th>\n",
       "      <td>2</td>\n",
       "      <td>9655</td>\n",
       "      <td>11567</td>\n",
       "    </tr>\n",
       "  </tbody>\n",
       "</table>\n",
       "</div>"
      ],
      "text/plain": [
       "                 user_id  group            ab_test\n",
       "count              18268  18268              18268\n",
       "unique             16666      2                  2\n",
       "top     0FDFDA0B2DEC2D91      A  interface_eu_test\n",
       "freq                   2   9655              11567"
      ]
     },
     "metadata": {},
     "output_type": "display_data"
    },
    {
     "name": "stdout",
     "output_type": "stream",
     "text": [
      "Пропуски\n"
     ]
    },
    {
     "data": {
      "text/plain": [
       "user_id    0\n",
       "group      0\n",
       "ab_test    0\n",
       "dtype: int64"
      ]
     },
     "metadata": {},
     "output_type": "display_data"
    },
    {
     "name": "stdout",
     "output_type": "stream",
     "text": [
      "Дубликаты\n"
     ]
    },
    {
     "data": {
      "text/plain": [
       "0"
      ]
     },
     "metadata": {},
     "output_type": "display_data"
    }
   ],
   "source": [
    "common_info(participants)"
   ]
  },
  {
   "cell_type": "markdown",
   "id": "1b7d240e",
   "metadata": {},
   "source": [
    "**Вывод:** \n",
    "- таблица содержит *18268* событий, \n",
    "- 2 вида теста: 'recommender_system_test' и 'interface_eu_test'\n",
    "- полных дубликатов и пропусков не найдено. "
   ]
  },
  {
   "cell_type": "code",
   "execution_count": 12,
   "id": "e2db03cb",
   "metadata": {},
   "outputs": [
    {
     "name": "stdout",
     "output_type": "stream",
     "text": [
      "<class 'pandas.core.frame.DataFrame'>\n",
      "RangeIndex: 14 entries, 0 to 13\n",
      "Data columns (total 4 columns):\n",
      " #   Column     Non-Null Count  Dtype \n",
      "---  ------     --------------  ----- \n",
      " 0   name       14 non-null     object\n",
      " 1   regions    14 non-null     object\n",
      " 2   start_dt   14 non-null     object\n",
      " 3   finish_dt  14 non-null     object\n",
      "dtypes: object(4)\n",
      "memory usage: 576.0+ bytes\n",
      "\n",
      "Первые строки\n"
     ]
    },
    {
     "data": {
      "text/html": [
       "<div>\n",
       "<style scoped>\n",
       "    .dataframe tbody tr th:only-of-type {\n",
       "        vertical-align: middle;\n",
       "    }\n",
       "\n",
       "    .dataframe tbody tr th {\n",
       "        vertical-align: top;\n",
       "    }\n",
       "\n",
       "    .dataframe thead th {\n",
       "        text-align: right;\n",
       "    }\n",
       "</style>\n",
       "<table border=\"1\" class=\"dataframe\">\n",
       "  <thead>\n",
       "    <tr style=\"text-align: right;\">\n",
       "      <th></th>\n",
       "      <th>name</th>\n",
       "      <th>regions</th>\n",
       "      <th>start_dt</th>\n",
       "      <th>finish_dt</th>\n",
       "    </tr>\n",
       "  </thead>\n",
       "  <tbody>\n",
       "    <tr>\n",
       "      <th>0</th>\n",
       "      <td>Christmas&amp;New Year Promo</td>\n",
       "      <td>EU, N.America</td>\n",
       "      <td>2020-12-25</td>\n",
       "      <td>2021-01-03</td>\n",
       "    </tr>\n",
       "    <tr>\n",
       "      <th>1</th>\n",
       "      <td>St. Valentine's Day Giveaway</td>\n",
       "      <td>EU, CIS, APAC, N.America</td>\n",
       "      <td>2020-02-14</td>\n",
       "      <td>2020-02-16</td>\n",
       "    </tr>\n",
       "    <tr>\n",
       "      <th>2</th>\n",
       "      <td>St. Patric's Day Promo</td>\n",
       "      <td>EU, N.America</td>\n",
       "      <td>2020-03-17</td>\n",
       "      <td>2020-03-19</td>\n",
       "    </tr>\n",
       "    <tr>\n",
       "      <th>3</th>\n",
       "      <td>Easter Promo</td>\n",
       "      <td>EU, CIS, APAC, N.America</td>\n",
       "      <td>2020-04-12</td>\n",
       "      <td>2020-04-19</td>\n",
       "    </tr>\n",
       "    <tr>\n",
       "      <th>4</th>\n",
       "      <td>4th of July Promo</td>\n",
       "      <td>N.America</td>\n",
       "      <td>2020-07-04</td>\n",
       "      <td>2020-07-11</td>\n",
       "    </tr>\n",
       "  </tbody>\n",
       "</table>\n",
       "</div>"
      ],
      "text/plain": [
       "                           name                   regions    start_dt  \\\n",
       "0      Christmas&New Year Promo             EU, N.America  2020-12-25   \n",
       "1  St. Valentine's Day Giveaway  EU, CIS, APAC, N.America  2020-02-14   \n",
       "2        St. Patric's Day Promo             EU, N.America  2020-03-17   \n",
       "3                  Easter Promo  EU, CIS, APAC, N.America  2020-04-12   \n",
       "4             4th of July Promo                 N.America  2020-07-04   \n",
       "\n",
       "    finish_dt  \n",
       "0  2021-01-03  \n",
       "1  2020-02-16  \n",
       "2  2020-03-19  \n",
       "3  2020-04-19  \n",
       "4  2020-07-11  "
      ]
     },
     "metadata": {},
     "output_type": "display_data"
    },
    {
     "name": "stdout",
     "output_type": "stream",
     "text": [
      "Распределение данных\n"
     ]
    },
    {
     "data": {
      "text/html": [
       "<div>\n",
       "<style scoped>\n",
       "    .dataframe tbody tr th:only-of-type {\n",
       "        vertical-align: middle;\n",
       "    }\n",
       "\n",
       "    .dataframe tbody tr th {\n",
       "        vertical-align: top;\n",
       "    }\n",
       "\n",
       "    .dataframe thead th {\n",
       "        text-align: right;\n",
       "    }\n",
       "</style>\n",
       "<table border=\"1\" class=\"dataframe\">\n",
       "  <thead>\n",
       "    <tr style=\"text-align: right;\">\n",
       "      <th></th>\n",
       "      <th>name</th>\n",
       "      <th>regions</th>\n",
       "      <th>start_dt</th>\n",
       "      <th>finish_dt</th>\n",
       "    </tr>\n",
       "  </thead>\n",
       "  <tbody>\n",
       "    <tr>\n",
       "      <th>count</th>\n",
       "      <td>14</td>\n",
       "      <td>14</td>\n",
       "      <td>14</td>\n",
       "      <td>14</td>\n",
       "    </tr>\n",
       "    <tr>\n",
       "      <th>unique</th>\n",
       "      <td>14</td>\n",
       "      <td>6</td>\n",
       "      <td>14</td>\n",
       "      <td>14</td>\n",
       "    </tr>\n",
       "    <tr>\n",
       "      <th>top</th>\n",
       "      <td>Christmas&amp;New Year Promo</td>\n",
       "      <td>APAC</td>\n",
       "      <td>2020-12-25</td>\n",
       "      <td>2021-01-03</td>\n",
       "    </tr>\n",
       "    <tr>\n",
       "      <th>freq</th>\n",
       "      <td>1</td>\n",
       "      <td>4</td>\n",
       "      <td>1</td>\n",
       "      <td>1</td>\n",
       "    </tr>\n",
       "  </tbody>\n",
       "</table>\n",
       "</div>"
      ],
      "text/plain": [
       "                            name regions    start_dt   finish_dt\n",
       "count                         14      14          14          14\n",
       "unique                        14       6          14          14\n",
       "top     Christmas&New Year Promo    APAC  2020-12-25  2021-01-03\n",
       "freq                           1       4           1           1"
      ]
     },
     "metadata": {},
     "output_type": "display_data"
    },
    {
     "name": "stdout",
     "output_type": "stream",
     "text": [
      "Пропуски\n"
     ]
    },
    {
     "data": {
      "text/plain": [
       "name         0\n",
       "regions      0\n",
       "start_dt     0\n",
       "finish_dt    0\n",
       "dtype: int64"
      ]
     },
     "metadata": {},
     "output_type": "display_data"
    },
    {
     "name": "stdout",
     "output_type": "stream",
     "text": [
      "Дубликаты\n"
     ]
    },
    {
     "data": {
      "text/plain": [
       "0"
      ]
     },
     "metadata": {},
     "output_type": "display_data"
    }
   ],
   "source": [
    "common_info(project_marketing)"
   ]
  },
  {
   "cell_type": "markdown",
   "id": "1256aa41",
   "metadata": {},
   "source": [
    "**Вывод:**\n",
    "    \n",
    "- таблица содержит *14* событий;\n",
    "- задействованы все 4 региона; \n",
    "- start_dt и finish_dt имеют тип object, необходимо его преобразовать;\n",
    "- полных дубликатов и пропусков не найдено;\n",
    "- дополнительно: сразу бросается в глаза акция, совпадающая по срокам с нашим тестом - *Christmas&New Year Promo\tEU, N.America\t2020-12-25\t2021-01-03*."
   ]
  },
  {
   "cell_type": "markdown",
   "id": "91c7fd2f",
   "metadata": {},
   "source": [
    "#### Шаг 2. Оценка корректности проведения теста."
   ]
  },
  {
   "cell_type": "markdown",
   "id": "0999adee",
   "metadata": {},
   "source": [
    "##### А. Временные интервалы."
   ]
  },
  {
   "cell_type": "code",
   "execution_count": 13,
   "id": "9251e7ff",
   "metadata": {},
   "outputs": [
    {
     "name": "stdout",
     "output_type": "stream",
     "text": [
      "Представлены данные о событиях с 2020-12-07 00:00:33 по 2020-12-30 23:36:33\n",
      "Набор пользователей производился с 2020-12-07 00:00:00 по 2020-12-23 00:00:00\n"
     ]
    }
   ],
   "source": [
    "print(f'Представлены данные о событиях с {events[\"event_dt\"].min()} по {events[\"event_dt\"].max()}')\n",
    "print(f'Набор пользователей производился с {users[\"first_date\"].min()} по {users[\"first_date\"].max()}')"
   ]
  },
  {
   "cell_type": "markdown",
   "id": "e0f10270",
   "metadata": {},
   "source": [
    "**Вывод:**\n",
    "\n",
    "Видим, что данные не соответствуют ТЗ:\n",
    "\n",
    "- дата остановки набора новых пользователей 2020-12-23, а в ТЗ указано, что 2020-12-21. Однако, вспомним, что у нас пользователи 2-ух тестов. Следующим шагом необходимо будет проверить даты набора именно в наш тест. \n",
    "- последнее событие теста - 2020-12-30 23:36:33, а согласно ТЗ тест должен был продолжаться дл 2021-01-04."
   ]
  },
  {
   "cell_type": "code",
   "execution_count": 14,
   "id": "9f2b54f4",
   "metadata": {},
   "outputs": [
    {
     "name": "stdout",
     "output_type": "stream",
     "text": [
      "Набор пользователей производился с 2020-12-07 00:00:00 по 2020-12-21 00:00:00\n"
     ]
    }
   ],
   "source": [
    "# посмотрим на даты набора в recommender_system_test\n",
    "check_dates = participants.query('ab_test == \"recommender_system_test\"').merge(users, on = 'user_id')\n",
    "#check_dates\n",
    "print(f'Набор пользователей производился с {check_dates [\"first_date\"].min()} по {check_dates [\"first_date\"].max()}')"
   ]
  },
  {
   "cell_type": "markdown",
   "id": "d97e54de",
   "metadata": {},
   "source": [
    "**Вывод:** даты набора пользователей в наш, recommender_system_test, соответствуют ТЗ."
   ]
  },
  {
   "cell_type": "markdown",
   "id": "858fd489",
   "metadata": {},
   "source": [
    "##### Б. Аудитория теста."
   ]
  },
  {
   "cell_type": "markdown",
   "id": "068f550e",
   "metadata": {},
   "source": [
    "* еще раз отметим общее кол-во пользователей + сколько событий приходится на 1-го в среднем."
   ]
  },
  {
   "cell_type": "code",
   "execution_count": 15,
   "id": "6f344295",
   "metadata": {},
   "outputs": [
    {
     "name": "stdout",
     "output_type": "stream",
     "text": [
      "Всего пользователей 61733\n",
      "Среднее кол-во событий на пользователя 7\n"
     ]
    }
   ],
   "source": [
    "print(f'Всего пользователей {users[\"user_id\"].nunique()}')\n",
    "print(f'Среднее кол-во событий на пользователя {round(events.shape[0] / users[\"user_id\"].nunique())}')"
   ]
  },
  {
   "cell_type": "markdown",
   "id": "b24918a0",
   "metadata": {},
   "source": [
    "* посмотрим на распределение пользователей в тесте, конкурирующий тест"
   ]
  },
  {
   "cell_type": "code",
   "execution_count": 16,
   "id": "a61ae725",
   "metadata": {},
   "outputs": [
    {
     "data": {
      "text/html": [
       "<div>\n",
       "<style scoped>\n",
       "    .dataframe tbody tr th:only-of-type {\n",
       "        vertical-align: middle;\n",
       "    }\n",
       "\n",
       "    .dataframe tbody tr th {\n",
       "        vertical-align: top;\n",
       "    }\n",
       "\n",
       "    .dataframe thead th {\n",
       "        text-align: right;\n",
       "    }\n",
       "</style>\n",
       "<table border=\"1\" class=\"dataframe\">\n",
       "  <thead>\n",
       "    <tr style=\"text-align: right;\">\n",
       "      <th></th>\n",
       "      <th></th>\n",
       "      <th>user_id</th>\n",
       "    </tr>\n",
       "    <tr>\n",
       "      <th>ab_test</th>\n",
       "      <th>group</th>\n",
       "      <th></th>\n",
       "    </tr>\n",
       "  </thead>\n",
       "  <tbody>\n",
       "    <tr>\n",
       "      <th rowspan=\"2\" valign=\"top\">interface_eu_test</th>\n",
       "      <th>A</th>\n",
       "      <td>5831</td>\n",
       "    </tr>\n",
       "    <tr>\n",
       "      <th>B</th>\n",
       "      <td>5736</td>\n",
       "    </tr>\n",
       "    <tr>\n",
       "      <th rowspan=\"2\" valign=\"top\">recommender_system_test</th>\n",
       "      <th>A</th>\n",
       "      <td>3824</td>\n",
       "    </tr>\n",
       "    <tr>\n",
       "      <th>B</th>\n",
       "      <td>2877</td>\n",
       "    </tr>\n",
       "  </tbody>\n",
       "</table>\n",
       "</div>"
      ],
      "text/plain": [
       "                               user_id\n",
       "ab_test                 group         \n",
       "interface_eu_test       A         5831\n",
       "                        B         5736\n",
       "recommender_system_test A         3824\n",
       "                        B         2877"
      ]
     },
     "execution_count": 16,
     "metadata": {},
     "output_type": "execute_result"
    }
   ],
   "source": [
    "participants.groupby(['ab_test', 'group']).agg({'user_id': 'nunique'})"
   ]
  },
  {
   "cell_type": "markdown",
   "id": "f276df61",
   "metadata": {},
   "source": [
    "**Вывод:**\n",
    "\n",
    "В нашем распоряжении данные о 2-ух тестах: \n",
    "\n",
    "- внедрение улучшенной рекомендательной системы(оцениваемый тест);\n",
    "- изменение интерфейса (конкурирующий, более крупный тест)."
   ]
  },
  {
   "cell_type": "markdown",
   "id": "81d5c418",
   "metadata": {},
   "source": [
    "* были ли те, кто участвовал в обоих тестах? проверим"
   ]
  },
  {
   "cell_type": "code",
   "execution_count": 17,
   "id": "930479ca",
   "metadata": {},
   "outputs": [
    {
     "data": {
      "text/html": [
       "<div>\n",
       "<style scoped>\n",
       "    .dataframe tbody tr th:only-of-type {\n",
       "        vertical-align: middle;\n",
       "    }\n",
       "\n",
       "    .dataframe tbody tr th {\n",
       "        vertical-align: top;\n",
       "    }\n",
       "\n",
       "    .dataframe thead th {\n",
       "        text-align: right;\n",
       "    }\n",
       "</style>\n",
       "<table border=\"1\" class=\"dataframe\">\n",
       "  <thead>\n",
       "    <tr style=\"text-align: right;\">\n",
       "      <th></th>\n",
       "      <th>count_tests</th>\n",
       "    </tr>\n",
       "    <tr>\n",
       "      <th>user_id</th>\n",
       "      <th></th>\n",
       "    </tr>\n",
       "  </thead>\n",
       "  <tbody>\n",
       "    <tr>\n",
       "      <th>001064FEAAB631A1</th>\n",
       "      <td>2</td>\n",
       "    </tr>\n",
       "    <tr>\n",
       "      <th>00341D8401F0F665</th>\n",
       "      <td>2</td>\n",
       "    </tr>\n",
       "    <tr>\n",
       "      <th>003B6786B4FF5B03</th>\n",
       "      <td>2</td>\n",
       "    </tr>\n",
       "    <tr>\n",
       "      <th>0082295A41A867B5</th>\n",
       "      <td>2</td>\n",
       "    </tr>\n",
       "    <tr>\n",
       "      <th>00E68F103C66C1F7</th>\n",
       "      <td>2</td>\n",
       "    </tr>\n",
       "    <tr>\n",
       "      <th>...</th>\n",
       "      <td>...</td>\n",
       "    </tr>\n",
       "    <tr>\n",
       "      <th>FF7BE2897FC0380D</th>\n",
       "      <td>2</td>\n",
       "    </tr>\n",
       "    <tr>\n",
       "      <th>FF9A81323FA67D6E</th>\n",
       "      <td>2</td>\n",
       "    </tr>\n",
       "    <tr>\n",
       "      <th>FFC53FD45DDA5EE8</th>\n",
       "      <td>2</td>\n",
       "    </tr>\n",
       "    <tr>\n",
       "      <th>FFED90241D04503F</th>\n",
       "      <td>2</td>\n",
       "    </tr>\n",
       "    <tr>\n",
       "      <th>FFF28D02B1EACBE1</th>\n",
       "      <td>2</td>\n",
       "    </tr>\n",
       "  </tbody>\n",
       "</table>\n",
       "<p>1602 rows × 1 columns</p>\n",
       "</div>"
      ],
      "text/plain": [
       "                  count_tests\n",
       "user_id                      \n",
       "001064FEAAB631A1            2\n",
       "00341D8401F0F665            2\n",
       "003B6786B4FF5B03            2\n",
       "0082295A41A867B5            2\n",
       "00E68F103C66C1F7            2\n",
       "...                       ...\n",
       "FF7BE2897FC0380D            2\n",
       "FF9A81323FA67D6E            2\n",
       "FFC53FD45DDA5EE8            2\n",
       "FFED90241D04503F            2\n",
       "FFF28D02B1EACBE1            2\n",
       "\n",
       "[1602 rows x 1 columns]"
      ]
     },
     "execution_count": 17,
     "metadata": {},
     "output_type": "execute_result"
    }
   ],
   "source": [
    "participants_in_both = participants.groupby('user_id') \\\n",
    "                               .agg({'ab_test': 'nunique'}) \\\n",
    "                               .rename(columns={'ab_test': 'count_tests'})\n",
    " \n",
    "participants_in_both = participants_in_both.query('count_tests> 1') \n",
    "participants_in_both"
   ]
  },
  {
   "cell_type": "markdown",
   "id": "bb9967a8",
   "metadata": {},
   "source": [
    "**Вывод:**\n",
    "\n",
    "В обоих тестах участвовали **1602** пользователя."
   ]
  },
  {
   "cell_type": "markdown",
   "id": "aa393a0c",
   "metadata": {},
   "source": [
    "* посмотрим на равномерность распределения по группам, правильность формирования"
   ]
  },
  {
   "cell_type": "code",
   "execution_count": 18,
   "id": "7a2e1724",
   "metadata": {},
   "outputs": [
    {
     "data": {
      "text/html": [
       "<div>\n",
       "<style scoped>\n",
       "    .dataframe tbody tr th:only-of-type {\n",
       "        vertical-align: middle;\n",
       "    }\n",
       "\n",
       "    .dataframe tbody tr th {\n",
       "        vertical-align: top;\n",
       "    }\n",
       "\n",
       "    .dataframe thead th {\n",
       "        text-align: right;\n",
       "    }\n",
       "</style>\n",
       "<table border=\"1\" class=\"dataframe\">\n",
       "  <thead>\n",
       "    <tr style=\"text-align: right;\">\n",
       "      <th></th>\n",
       "      <th>user_id</th>\n",
       "      <th>group</th>\n",
       "      <th>ab_test</th>\n",
       "    </tr>\n",
       "  </thead>\n",
       "  <tbody>\n",
       "    <tr>\n",
       "      <th>2</th>\n",
       "      <td>DABC14FDDFADD29E</td>\n",
       "      <td>A</td>\n",
       "      <td>recommender_system_test</td>\n",
       "    </tr>\n",
       "    <tr>\n",
       "      <th>3</th>\n",
       "      <td>04988C5DF189632E</td>\n",
       "      <td>A</td>\n",
       "      <td>recommender_system_test</td>\n",
       "    </tr>\n",
       "    <tr>\n",
       "      <th>10</th>\n",
       "      <td>B3A2485649E4A012</td>\n",
       "      <td>A</td>\n",
       "      <td>recommender_system_test</td>\n",
       "    </tr>\n",
       "    <tr>\n",
       "      <th>25</th>\n",
       "      <td>EAFB9027A27D510C</td>\n",
       "      <td>B</td>\n",
       "      <td>recommender_system_test</td>\n",
       "    </tr>\n",
       "    <tr>\n",
       "      <th>29</th>\n",
       "      <td>5D5E6EE92AF6E9E0</td>\n",
       "      <td>B</td>\n",
       "      <td>recommender_system_test</td>\n",
       "    </tr>\n",
       "    <tr>\n",
       "      <th>...</th>\n",
       "      <td>...</td>\n",
       "      <td>...</td>\n",
       "      <td>...</td>\n",
       "    </tr>\n",
       "    <tr>\n",
       "      <th>18227</th>\n",
       "      <td>EF2E4FAF26951358</td>\n",
       "      <td>A</td>\n",
       "      <td>interface_eu_test</td>\n",
       "    </tr>\n",
       "    <tr>\n",
       "      <th>18245</th>\n",
       "      <td>2B0CD24EE4291CA0</td>\n",
       "      <td>B</td>\n",
       "      <td>interface_eu_test</td>\n",
       "    </tr>\n",
       "    <tr>\n",
       "      <th>18252</th>\n",
       "      <td>CA6F4DAED160E5B1</td>\n",
       "      <td>A</td>\n",
       "      <td>interface_eu_test</td>\n",
       "    </tr>\n",
       "    <tr>\n",
       "      <th>18257</th>\n",
       "      <td>C70DF942E542DA69</td>\n",
       "      <td>A</td>\n",
       "      <td>interface_eu_test</td>\n",
       "    </tr>\n",
       "    <tr>\n",
       "      <th>18258</th>\n",
       "      <td>CE782A3646E8E5E1</td>\n",
       "      <td>A</td>\n",
       "      <td>interface_eu_test</td>\n",
       "    </tr>\n",
       "  </tbody>\n",
       "</table>\n",
       "<p>3204 rows × 3 columns</p>\n",
       "</div>"
      ],
      "text/plain": [
       "                user_id group                  ab_test\n",
       "2      DABC14FDDFADD29E     A  recommender_system_test\n",
       "3      04988C5DF189632E     A  recommender_system_test\n",
       "10     B3A2485649E4A012     A  recommender_system_test\n",
       "25     EAFB9027A27D510C     B  recommender_system_test\n",
       "29     5D5E6EE92AF6E9E0     B  recommender_system_test\n",
       "...                 ...   ...                      ...\n",
       "18227  EF2E4FAF26951358     A        interface_eu_test\n",
       "18245  2B0CD24EE4291CA0     B        interface_eu_test\n",
       "18252  CA6F4DAED160E5B1     A        interface_eu_test\n",
       "18257  C70DF942E542DA69     A        interface_eu_test\n",
       "18258  CE782A3646E8E5E1     A        interface_eu_test\n",
       "\n",
       "[3204 rows x 3 columns]"
      ]
     },
     "execution_count": 18,
     "metadata": {},
     "output_type": "execute_result"
    }
   ],
   "source": [
    "# выделим пользователей, которые участвовали в обоих тестах в отдельный дф\n",
    "participants_in_both_df = participants[participants['user_id'].isin(participants_in_both.index)]\n",
    "\n",
    "participants_in_both_df"
   ]
  },
  {
   "cell_type": "markdown",
   "id": "c1593358",
   "metadata": {},
   "source": [
    "Группа А - контрольная, а значит те, кто мог оценить изменения ===> повлиять в дальнейшем на рез-ты находятся в группе В. Следовательно, необходимо выделить этих пользователей 2-го теста(изменения в интерефейсе). Если в нашем тесте(внедрение улучшенной рекомендательной системы) они распределены равномерно, то нельзя будет утверждать, что 2-ой тест оказывал различное влияние на наши группы. "
   ]
  },
  {
   "cell_type": "code",
   "execution_count": 19,
   "id": "0fbff6c1",
   "metadata": {},
   "outputs": [
    {
     "data": {
      "text/html": [
       "<div>\n",
       "<style scoped>\n",
       "    .dataframe tbody tr th:only-of-type {\n",
       "        vertical-align: middle;\n",
       "    }\n",
       "\n",
       "    .dataframe tbody tr th {\n",
       "        vertical-align: top;\n",
       "    }\n",
       "\n",
       "    .dataframe thead th {\n",
       "        text-align: right;\n",
       "    }\n",
       "</style>\n",
       "<table border=\"1\" class=\"dataframe\">\n",
       "  <thead>\n",
       "    <tr style=\"text-align: right;\">\n",
       "      <th></th>\n",
       "      <th>user_id</th>\n",
       "      <th>group</th>\n",
       "      <th>ab_test</th>\n",
       "    </tr>\n",
       "  </thead>\n",
       "  <tbody>\n",
       "    <tr>\n",
       "      <th>6705</th>\n",
       "      <td>2BA8FA8754D1FE50</td>\n",
       "      <td>B</td>\n",
       "      <td>interface_eu_test</td>\n",
       "    </tr>\n",
       "    <tr>\n",
       "      <th>6706</th>\n",
       "      <td>FB6F6BC119E1DBD5</td>\n",
       "      <td>B</td>\n",
       "      <td>interface_eu_test</td>\n",
       "    </tr>\n",
       "    <tr>\n",
       "      <th>6725</th>\n",
       "      <td>7060BB1CBE3BAACC</td>\n",
       "      <td>B</td>\n",
       "      <td>interface_eu_test</td>\n",
       "    </tr>\n",
       "    <tr>\n",
       "      <th>6727</th>\n",
       "      <td>97248D21983C5DBC</td>\n",
       "      <td>B</td>\n",
       "      <td>interface_eu_test</td>\n",
       "    </tr>\n",
       "    <tr>\n",
       "      <th>6738</th>\n",
       "      <td>8E69896F59A3B8F8</td>\n",
       "      <td>B</td>\n",
       "      <td>interface_eu_test</td>\n",
       "    </tr>\n",
       "    <tr>\n",
       "      <th>...</th>\n",
       "      <td>...</td>\n",
       "      <td>...</td>\n",
       "      <td>...</td>\n",
       "    </tr>\n",
       "    <tr>\n",
       "      <th>18130</th>\n",
       "      <td>02313B9E82255F47</td>\n",
       "      <td>B</td>\n",
       "      <td>interface_eu_test</td>\n",
       "    </tr>\n",
       "    <tr>\n",
       "      <th>18161</th>\n",
       "      <td>6442D23D6E0B3A56</td>\n",
       "      <td>B</td>\n",
       "      <td>interface_eu_test</td>\n",
       "    </tr>\n",
       "    <tr>\n",
       "      <th>18170</th>\n",
       "      <td>7DF21AEB1AA231F9</td>\n",
       "      <td>B</td>\n",
       "      <td>interface_eu_test</td>\n",
       "    </tr>\n",
       "    <tr>\n",
       "      <th>18183</th>\n",
       "      <td>EA6EA431FF84563B</td>\n",
       "      <td>B</td>\n",
       "      <td>interface_eu_test</td>\n",
       "    </tr>\n",
       "    <tr>\n",
       "      <th>18245</th>\n",
       "      <td>2B0CD24EE4291CA0</td>\n",
       "      <td>B</td>\n",
       "      <td>interface_eu_test</td>\n",
       "    </tr>\n",
       "  </tbody>\n",
       "</table>\n",
       "<p>783 rows × 3 columns</p>\n",
       "</div>"
      ],
      "text/plain": [
       "                user_id group            ab_test\n",
       "6705   2BA8FA8754D1FE50     B  interface_eu_test\n",
       "6706   FB6F6BC119E1DBD5     B  interface_eu_test\n",
       "6725   7060BB1CBE3BAACC     B  interface_eu_test\n",
       "6727   97248D21983C5DBC     B  interface_eu_test\n",
       "6738   8E69896F59A3B8F8     B  interface_eu_test\n",
       "...                 ...   ...                ...\n",
       "18130  02313B9E82255F47     B  interface_eu_test\n",
       "18161  6442D23D6E0B3A56     B  interface_eu_test\n",
       "18170  7DF21AEB1AA231F9     B  interface_eu_test\n",
       "18183  EA6EA431FF84563B     B  interface_eu_test\n",
       "18245  2B0CD24EE4291CA0     B  interface_eu_test\n",
       "\n",
       "[783 rows x 3 columns]"
      ]
     },
     "execution_count": 19,
     "metadata": {},
     "output_type": "execute_result"
    }
   ],
   "source": [
    "participants_interface_B =  participants_in_both_df.query('ab_test == \"interface_eu_test\" & group ==\"B\"')\n",
    "participants_interface_B"
   ]
  },
  {
   "cell_type": "markdown",
   "id": "b166f809",
   "metadata": {},
   "source": [
    "**Вывод:**\n",
    "\n",
    "В гр. В 2го теста \"interface_eu_test\" **783** пользователя."
   ]
  },
  {
   "cell_type": "markdown",
   "id": "80a5d299",
   "metadata": {},
   "source": [
    "- Следующим шагом мы посмотрим, как распределены эти 783 пользователя из гр. В "
   ]
  },
  {
   "cell_type": "code",
   "execution_count": 20,
   "id": "15ca542c",
   "metadata": {
    "scrolled": true
   },
   "outputs": [
    {
     "data": {
      "text/html": [
       "<div>\n",
       "<style scoped>\n",
       "    .dataframe tbody tr th:only-of-type {\n",
       "        vertical-align: middle;\n",
       "    }\n",
       "\n",
       "    .dataframe tbody tr th {\n",
       "        vertical-align: top;\n",
       "    }\n",
       "\n",
       "    .dataframe thead th {\n",
       "        text-align: right;\n",
       "    }\n",
       "</style>\n",
       "<table border=\"1\" class=\"dataframe\">\n",
       "  <thead>\n",
       "    <tr style=\"text-align: right;\">\n",
       "      <th></th>\n",
       "      <th></th>\n",
       "      <th>user_id</th>\n",
       "    </tr>\n",
       "    <tr>\n",
       "      <th>ab_test</th>\n",
       "      <th>group</th>\n",
       "      <th></th>\n",
       "    </tr>\n",
       "  </thead>\n",
       "  <tbody>\n",
       "    <tr>\n",
       "      <th rowspan=\"2\" valign=\"top\">recommender_system_test</th>\n",
       "      <th>A</th>\n",
       "      <td>439</td>\n",
       "    </tr>\n",
       "    <tr>\n",
       "      <th>B</th>\n",
       "      <td>344</td>\n",
       "    </tr>\n",
       "  </tbody>\n",
       "</table>\n",
       "</div>"
      ],
      "text/plain": [
       "                               user_id\n",
       "ab_test                 group         \n",
       "recommender_system_test A          439\n",
       "                        B          344"
      ]
     },
     "execution_count": 20,
     "metadata": {},
     "output_type": "execute_result"
    }
   ],
   "source": [
    "# выделяем  пользователей, участвующих в 2-ух тестах\n",
    "\n",
    "participants_check = participants[participants['user_id'].isin(participants_interface_B['user_id'].values)]\n",
    "\n",
    "# оставляем только пользователей только из \"recommender_system_test\":\n",
    "\n",
    "participants_check = participants_check.query('ab_test == \"recommender_system_test\"')\n",
    "\n",
    "participants_check .groupby(['ab_test', 'group']).agg({'user_id': 'nunique'})"
   ]
  },
  {
   "cell_type": "markdown",
   "id": "45b4be09",
   "metadata": {},
   "source": [
    "Получили в рез-те распределение участников гр.В \"interface_eu_test\"(из участвующих в обоих тестах) по группам в \"recommender_system_test\"."
   ]
  },
  {
   "cell_type": "markdown",
   "id": "b138043f",
   "metadata": {},
   "source": [
    "- Проведем z-test и проверим гипотезу о равенстве долей пользователей из гр. В \"interface_eu_test\" в гр. А и гр. В \"recommender_system_test\""
   ]
  },
  {
   "cell_type": "code",
   "execution_count": 21,
   "id": "f9aa0743",
   "metadata": {},
   "outputs": [],
   "source": [
    "# выделим участников групп в отдельные переменные\n",
    "a_group = participants_check[participants_check['group'] == 'A']['user_id'].nunique()\n",
    "b_group = participants_check[participants_check['group'] == 'B']['user_id'].nunique()\n",
    "\n",
    "\n",
    "group = participants.groupby(['ab_test', 'group']).agg({'user_id': 'nunique'}).reset_index()\n",
    "\n",
    "a = group[(group['group'] == 'A') & (group['ab_test'] == \"recommender_system_test\")]['user_id'].item()\n",
    "b = group[(group['group'] == 'B') & (group['ab_test'] == \"recommender_system_test\")]['user_id'].item()\n",
    "\n",
    "# критический уровень статистической значимости\n",
    "alpha = 0.05  \n",
    "    \n",
    "# задаем число пользователей:\n",
    "success = np.array([a_group, b_group])\n",
    "num_of_users = np.array([a,b])"
   ]
  },
  {
   "cell_type": "code",
   "execution_count": 22,
   "id": "3446b5bb",
   "metadata": {},
   "outputs": [
    {
     "name": "stdout",
     "output_type": "stream",
     "text": [
      "p-значение:  0.5475925169519402\n",
      "Не удалось отвергнуть нулевую гипотезу\n"
     ]
    }
   ],
   "source": [
    "# пропорции успехов в группах:\n",
    "p1 = success[0]/num_of_users[0]\n",
    "p2 = success[1]/num_of_users[1]\n",
    "    \n",
    "# пропорция успехов в комбинированном датасете:\n",
    "p_combined = (success[0] + success[1]) / (num_of_users[0] + num_of_users[1])\n",
    "\n",
    "# разница пропорций в датасетах\n",
    "difference = p1 - p2 \n",
    "\n",
    "# считаем статистику в ст.отклонениях стандартного нормального распределения\n",
    "z_value = difference / mth.sqrt(p_combined * (1 - p_combined) * (1/num_of_users[0] + 1/num_of_users[1]))\n",
    "\n",
    "# задаем стандартное нормальное распределение (среднее 0, ст.отклонение 1)\n",
    "distr = stats.norm(0, 1)  \n",
    "\n",
    "p_value = (1 - distr.cdf(abs(z_value))) * 2   # тест двусторонний, удваиваем результат\n",
    "\n",
    "print('p-значение: ', p_value)\n",
    "\n",
    "if p_value < alpha:\n",
    "    print('Отвергаем нулевую гипотезу - между долями есть разница')\n",
    "else:\n",
    "    print(\n",
    "    'Не удалось отвергнуть нулевую гипотезу')"
   ]
  },
  {
   "cell_type": "markdown",
   "id": "a712499e",
   "metadata": {},
   "source": [
    "**Вывод:** пользователи гр.В interface_eu_test, принявшие участие в двух тестах, распределены по группам равномерно."
   ]
  },
  {
   "cell_type": "markdown",
   "id": "bdc4cbe9",
   "metadata": {},
   "source": [
    "Cформируем финальный вариант таблицы participants - оставим только участников \"recommender_system_test\", исключим тех, кто является уч. второго теста из группы В - во избежании влияния их на наш тест."
   ]
  },
  {
   "cell_type": "code",
   "execution_count": 23,
   "id": "de8d69cd",
   "metadata": {},
   "outputs": [
    {
     "data": {
      "text/html": [
       "<div>\n",
       "<style scoped>\n",
       "    .dataframe tbody tr th:only-of-type {\n",
       "        vertical-align: middle;\n",
       "    }\n",
       "\n",
       "    .dataframe tbody tr th {\n",
       "        vertical-align: top;\n",
       "    }\n",
       "\n",
       "    .dataframe thead th {\n",
       "        text-align: right;\n",
       "    }\n",
       "</style>\n",
       "<table border=\"1\" class=\"dataframe\">\n",
       "  <thead>\n",
       "    <tr style=\"text-align: right;\">\n",
       "      <th></th>\n",
       "      <th></th>\n",
       "      <th>user_id</th>\n",
       "    </tr>\n",
       "    <tr>\n",
       "      <th>ab_test</th>\n",
       "      <th>group</th>\n",
       "      <th></th>\n",
       "    </tr>\n",
       "  </thead>\n",
       "  <tbody>\n",
       "    <tr>\n",
       "      <th rowspan=\"2\" valign=\"top\">recommender_system_test</th>\n",
       "      <th>A</th>\n",
       "      <td>3385</td>\n",
       "    </tr>\n",
       "    <tr>\n",
       "      <th>B</th>\n",
       "      <td>2533</td>\n",
       "    </tr>\n",
       "  </tbody>\n",
       "</table>\n",
       "</div>"
      ],
      "text/plain": [
       "                               user_id\n",
       "ab_test                 group         \n",
       "recommender_system_test A         3385\n",
       "                        B         2533"
      ]
     },
     "execution_count": 23,
     "metadata": {},
     "output_type": "execute_result"
    }
   ],
   "source": [
    "participants_final = participants[~participants['user_id'].isin(participants_interface_B['user_id'].values)]\n",
    "participants_final = participants_final.query('ab_test == \"recommender_system_test\"')\n",
    "\n",
    "participants_final.groupby(['ab_test', 'group']).agg({'user_id': 'nunique'})"
   ]
  },
  {
   "cell_type": "markdown",
   "id": "179b21b0",
   "metadata": {},
   "source": [
    "**Вывод:**\n",
    "в нашем тесте участвует *5918* уникальных пользователей, (меньше ожидаемого кол-ва по ТЗ), распределение по группам неравномерно. "
   ]
  },
  {
   "cell_type": "markdown",
   "id": "3fc62a71",
   "metadata": {},
   "source": [
    "Осталось убедиться, что нет тех, кто попал в обе группы - А и В. "
   ]
  },
  {
   "cell_type": "code",
   "execution_count": 24,
   "id": "49c44276",
   "metadata": {},
   "outputs": [
    {
     "data": {
      "text/html": [
       "<div>\n",
       "<style scoped>\n",
       "    .dataframe tbody tr th:only-of-type {\n",
       "        vertical-align: middle;\n",
       "    }\n",
       "\n",
       "    .dataframe tbody tr th {\n",
       "        vertical-align: top;\n",
       "    }\n",
       "\n",
       "    .dataframe thead th {\n",
       "        text-align: right;\n",
       "    }\n",
       "</style>\n",
       "<table border=\"1\" class=\"dataframe\">\n",
       "  <thead>\n",
       "    <tr style=\"text-align: right;\">\n",
       "      <th></th>\n",
       "      <th>user_id</th>\n",
       "      <th>group</th>\n",
       "    </tr>\n",
       "  </thead>\n",
       "  <tbody>\n",
       "  </tbody>\n",
       "</table>\n",
       "</div>"
      ],
      "text/plain": [
       "Empty DataFrame\n",
       "Columns: [user_id, group]\n",
       "Index: []"
      ]
     },
     "execution_count": 24,
     "metadata": {},
     "output_type": "execute_result"
    }
   ],
   "source": [
    "participants_final.groupby('user_id') \\\n",
    "    .agg({'group':'nunique'}) \\\n",
    "    .reset_index() \\\n",
    "    .query('group > 1')"
   ]
  },
  {
   "cell_type": "markdown",
   "id": "90fe379f",
   "metadata": {},
   "source": [
    "**Вывод:** в нашем тесте нет пользователей, оказавшихся одновременно в двух группах."
   ]
  },
  {
   "cell_type": "markdown",
   "id": "deeed0dd",
   "metadata": {},
   "source": [
    "* Посмотрим на распределение пользователей по регионам"
   ]
  },
  {
   "cell_type": "code",
   "execution_count": 25,
   "id": "ad5fdc75",
   "metadata": {},
   "outputs": [
    {
     "data": {
      "text/html": [
       "<div>\n",
       "<style scoped>\n",
       "    .dataframe tbody tr th:only-of-type {\n",
       "        vertical-align: middle;\n",
       "    }\n",
       "\n",
       "    .dataframe tbody tr th {\n",
       "        vertical-align: top;\n",
       "    }\n",
       "\n",
       "    .dataframe thead th {\n",
       "        text-align: right;\n",
       "    }\n",
       "</style>\n",
       "<table border=\"1\" class=\"dataframe\">\n",
       "  <thead>\n",
       "    <tr style=\"text-align: right;\">\n",
       "      <th></th>\n",
       "      <th>region</th>\n",
       "      <th>user_id</th>\n",
       "    </tr>\n",
       "  </thead>\n",
       "  <tbody>\n",
       "    <tr>\n",
       "      <th>0</th>\n",
       "      <td>APAC</td>\n",
       "      <td>2883</td>\n",
       "    </tr>\n",
       "    <tr>\n",
       "      <th>1</th>\n",
       "      <td>CIS</td>\n",
       "      <td>2900</td>\n",
       "    </tr>\n",
       "    <tr>\n",
       "      <th>2</th>\n",
       "      <td>EU</td>\n",
       "      <td>42340</td>\n",
       "    </tr>\n",
       "    <tr>\n",
       "      <th>3</th>\n",
       "      <td>N.America</td>\n",
       "      <td>8347</td>\n",
       "    </tr>\n",
       "  </tbody>\n",
       "</table>\n",
       "</div>"
      ],
      "text/plain": [
       "      region  user_id\n",
       "0       APAC     2883\n",
       "1        CIS     2900\n",
       "2         EU    42340\n",
       "3  N.America     8347"
      ]
     },
     "metadata": {},
     "output_type": "display_data"
    },
    {
     "data": {
      "image/png": "[encoded data removed]"
     },
     "metadata": {},
     "output_type": "display_data"
    }
   ],
   "source": [
    "users_to_region = users.query('first_date <= \"2020-12-21 23:59:59\"')\\\n",
    "    .groupby('region')\\\n",
    "    .agg({'user_id': 'nunique'})\\\n",
    "    .reset_index()\n",
    "display(users_to_region)\n",
    "fig = px.bar(users_to_region, x='region', y=\"user_id\",\\\n",
    "             text_auto='percent,%', width=800,height =500,\\\n",
    "             labels={\n",
    "                     'region': 'Регион',\n",
    "                     'user_id': 'Кол-во пользователей',\n",
    "                 },\n",
    "                title='Распределение новых пользователей по регионам')\n",
    "fig.show()"
   ]
  },
  {
   "cell_type": "markdown",
   "id": "5b629472",
   "metadata": {},
   "source": [
    "* Пользователи из EU ~ 75 %."
   ]
  },
  {
   "cell_type": "markdown",
   "id": "076cd2f9",
   "metadata": {},
   "source": [
    "Согласно ТЗ,в тест должно быть отобрано 15% новых пользователей из региона EU.\n",
    "Проверим."
   ]
  },
  {
   "cell_type": "code",
   "execution_count": 26,
   "id": "7168130e",
   "metadata": {},
   "outputs": [
    {
     "name": "stdout",
     "output_type": "stream",
     "text": [
      "Доля отобранных новых пользователей из EU - 13.98 %\n"
     ]
    }
   ],
   "source": [
    "eu_users = users.query('first_date <= \"2020-12-21 23:59:59\" and region == \"EU\"')['user_id'].nunique()\n",
    "our_test_users = participants_final['user_id'].nunique()\n",
    "print (f'Доля отобранных новых пользователей из EU - {round(our_test_users / eu_users * 100,2)} %')"
   ]
  },
  {
   "cell_type": "markdown",
   "id": "772288d8",
   "metadata": {},
   "source": [
    "* Объединим поочередно таблицы для дальнейшего анализа, в т.ч. с учетом горизонта исследования"
   ]
  },
  {
   "cell_type": "code",
   "execution_count": 27,
   "id": "6fa3292d",
   "metadata": {},
   "outputs": [
    {
     "data": {
      "text/plain": [
       "group\n",
       "A    3385\n",
       "B    2533\n",
       "Name: user_id, dtype: int64"
      ]
     },
     "metadata": {},
     "output_type": "display_data"
    },
    {
     "data": {
      "text/html": [
       "<div>\n",
       "<style scoped>\n",
       "    .dataframe tbody tr th:only-of-type {\n",
       "        vertical-align: middle;\n",
       "    }\n",
       "\n",
       "    .dataframe tbody tr th {\n",
       "        vertical-align: top;\n",
       "    }\n",
       "\n",
       "    .dataframe thead th {\n",
       "        text-align: right;\n",
       "    }\n",
       "</style>\n",
       "<table border=\"1\" class=\"dataframe\">\n",
       "  <thead>\n",
       "    <tr style=\"text-align: right;\">\n",
       "      <th></th>\n",
       "      <th>user_id</th>\n",
       "      <th>group</th>\n",
       "      <th>ab_test</th>\n",
       "      <th>first_date</th>\n",
       "      <th>region</th>\n",
       "      <th>device</th>\n",
       "    </tr>\n",
       "  </thead>\n",
       "  <tbody>\n",
       "    <tr>\n",
       "      <th>0</th>\n",
       "      <td>D1ABA3E2887B6A73</td>\n",
       "      <td>A</td>\n",
       "      <td>recommender_system_test</td>\n",
       "      <td>2020-12-07</td>\n",
       "      <td>EU</td>\n",
       "      <td>PC</td>\n",
       "    </tr>\n",
       "    <tr>\n",
       "      <th>1</th>\n",
       "      <td>A7A3664BD6242119</td>\n",
       "      <td>A</td>\n",
       "      <td>recommender_system_test</td>\n",
       "      <td>2020-12-20</td>\n",
       "      <td>EU</td>\n",
       "      <td>iPhone</td>\n",
       "    </tr>\n",
       "    <tr>\n",
       "      <th>2</th>\n",
       "      <td>DABC14FDDFADD29E</td>\n",
       "      <td>A</td>\n",
       "      <td>recommender_system_test</td>\n",
       "      <td>2020-12-08</td>\n",
       "      <td>EU</td>\n",
       "      <td>Mac</td>\n",
       "    </tr>\n",
       "    <tr>\n",
       "      <th>3</th>\n",
       "      <td>04988C5DF189632E</td>\n",
       "      <td>A</td>\n",
       "      <td>recommender_system_test</td>\n",
       "      <td>2020-12-14</td>\n",
       "      <td>EU</td>\n",
       "      <td>iPhone</td>\n",
       "    </tr>\n",
       "    <tr>\n",
       "      <th>4</th>\n",
       "      <td>482F14783456D21B</td>\n",
       "      <td>B</td>\n",
       "      <td>recommender_system_test</td>\n",
       "      <td>2020-12-14</td>\n",
       "      <td>EU</td>\n",
       "      <td>PC</td>\n",
       "    </tr>\n",
       "  </tbody>\n",
       "</table>\n",
       "</div>"
      ],
      "text/plain": [
       "            user_id group                  ab_test first_date region  device\n",
       "0  D1ABA3E2887B6A73     A  recommender_system_test 2020-12-07     EU      PC\n",
       "1  A7A3664BD6242119     A  recommender_system_test 2020-12-20     EU  iPhone\n",
       "2  DABC14FDDFADD29E     A  recommender_system_test 2020-12-08     EU     Mac\n",
       "3  04988C5DF189632E     A  recommender_system_test 2020-12-14     EU  iPhone\n",
       "4  482F14783456D21B     B  recommender_system_test 2020-12-14     EU      PC"
      ]
     },
     "execution_count": 27,
     "metadata": {},
     "output_type": "execute_result"
    }
   ],
   "source": [
    "# сначала к participants_final присоединим таблицу users\n",
    "participants_to_users = participants_final.merge(users, on = 'user_id')\n",
    "display(participants_to_users.groupby('group')['user_id'].nunique())\n",
    "participants_to_users.head()"
   ]
  },
  {
   "cell_type": "markdown",
   "id": "3d2baa5d",
   "metadata": {},
   "source": [
    "Успешно, кол-во уникальных пользователей не изменилось, даты регистрации, именно в нашем тесте, как мы убедились ранее корректные."
   ]
  },
  {
   "cell_type": "code",
   "execution_count": 28,
   "id": "dfd5d210",
   "metadata": {},
   "outputs": [
    {
     "data": {
      "text/plain": [
       "group\n",
       "A    2422\n",
       "B     822\n",
       "Name: user_id, dtype: int64"
      ]
     },
     "metadata": {},
     "output_type": "display_data"
    },
    {
     "data": {
      "text/html": [
       "<div>\n",
       "<style scoped>\n",
       "    .dataframe tbody tr th:only-of-type {\n",
       "        vertical-align: middle;\n",
       "    }\n",
       "\n",
       "    .dataframe tbody tr th {\n",
       "        vertical-align: top;\n",
       "    }\n",
       "\n",
       "    .dataframe thead th {\n",
       "        text-align: right;\n",
       "    }\n",
       "</style>\n",
       "<table border=\"1\" class=\"dataframe\">\n",
       "  <thead>\n",
       "    <tr style=\"text-align: right;\">\n",
       "      <th></th>\n",
       "      <th>user_id</th>\n",
       "      <th>group</th>\n",
       "      <th>ab_test</th>\n",
       "      <th>first_date</th>\n",
       "      <th>region</th>\n",
       "      <th>device</th>\n",
       "      <th>event_dt</th>\n",
       "      <th>event_name</th>\n",
       "      <th>details</th>\n",
       "    </tr>\n",
       "  </thead>\n",
       "  <tbody>\n",
       "    <tr>\n",
       "      <th>0</th>\n",
       "      <td>D1ABA3E2887B6A73</td>\n",
       "      <td>A</td>\n",
       "      <td>recommender_system_test</td>\n",
       "      <td>2020-12-07</td>\n",
       "      <td>EU</td>\n",
       "      <td>PC</td>\n",
       "      <td>2020-12-07 14:43:27</td>\n",
       "      <td>purchase</td>\n",
       "      <td>99.99</td>\n",
       "    </tr>\n",
       "    <tr>\n",
       "      <th>1</th>\n",
       "      <td>D1ABA3E2887B6A73</td>\n",
       "      <td>A</td>\n",
       "      <td>recommender_system_test</td>\n",
       "      <td>2020-12-07</td>\n",
       "      <td>EU</td>\n",
       "      <td>PC</td>\n",
       "      <td>2020-12-25 00:04:56</td>\n",
       "      <td>purchase</td>\n",
       "      <td>4.99</td>\n",
       "    </tr>\n",
       "    <tr>\n",
       "      <th>2</th>\n",
       "      <td>D1ABA3E2887B6A73</td>\n",
       "      <td>A</td>\n",
       "      <td>recommender_system_test</td>\n",
       "      <td>2020-12-07</td>\n",
       "      <td>EU</td>\n",
       "      <td>PC</td>\n",
       "      <td>2020-12-07 14:43:29</td>\n",
       "      <td>product_cart</td>\n",
       "      <td>NaN</td>\n",
       "    </tr>\n",
       "    <tr>\n",
       "      <th>3</th>\n",
       "      <td>D1ABA3E2887B6A73</td>\n",
       "      <td>A</td>\n",
       "      <td>recommender_system_test</td>\n",
       "      <td>2020-12-07</td>\n",
       "      <td>EU</td>\n",
       "      <td>PC</td>\n",
       "      <td>2020-12-25 00:04:57</td>\n",
       "      <td>product_cart</td>\n",
       "      <td>NaN</td>\n",
       "    </tr>\n",
       "    <tr>\n",
       "      <th>4</th>\n",
       "      <td>D1ABA3E2887B6A73</td>\n",
       "      <td>A</td>\n",
       "      <td>recommender_system_test</td>\n",
       "      <td>2020-12-07</td>\n",
       "      <td>EU</td>\n",
       "      <td>PC</td>\n",
       "      <td>2020-12-07 14:43:27</td>\n",
       "      <td>product_page</td>\n",
       "      <td>NaN</td>\n",
       "    </tr>\n",
       "  </tbody>\n",
       "</table>\n",
       "</div>"
      ],
      "text/plain": [
       "            user_id group                  ab_test first_date region device  \\\n",
       "0  D1ABA3E2887B6A73     A  recommender_system_test 2020-12-07     EU     PC   \n",
       "1  D1ABA3E2887B6A73     A  recommender_system_test 2020-12-07     EU     PC   \n",
       "2  D1ABA3E2887B6A73     A  recommender_system_test 2020-12-07     EU     PC   \n",
       "3  D1ABA3E2887B6A73     A  recommender_system_test 2020-12-07     EU     PC   \n",
       "4  D1ABA3E2887B6A73     A  recommender_system_test 2020-12-07     EU     PC   \n",
       "\n",
       "             event_dt    event_name  details  \n",
       "0 2020-12-07 14:43:27      purchase    99.99  \n",
       "1 2020-12-25 00:04:56      purchase     4.99  \n",
       "2 2020-12-07 14:43:29  product_cart      NaN  \n",
       "3 2020-12-25 00:04:57  product_cart      NaN  \n",
       "4 2020-12-07 14:43:27  product_page      NaN  "
      ]
     },
     "execution_count": 28,
     "metadata": {},
     "output_type": "execute_result"
    }
   ],
   "source": [
    "events_final = participants_to_users.merge(events, on = 'user_id')\n",
    "display(events_final.groupby('group')['user_id'].nunique())\n",
    "events_final.head()"
   ]
  },
  {
   "cell_type": "markdown",
   "id": "98fe7604",
   "metadata": {},
   "source": [
    "Видим большу потерю участников. Перед следующим шагом(установка лайфтайма), проанализируем потерянных пользователей. "
   ]
  },
  {
   "cell_type": "code",
   "execution_count": 29,
   "id": "cd057def",
   "metadata": {},
   "outputs": [
    {
     "data": {
      "text/plain": [
       "group\n",
       "A     963\n",
       "B    1711\n",
       "Name: user_id, dtype: int64"
      ]
     },
     "metadata": {},
     "output_type": "display_data"
    },
    {
     "data": {
      "text/plain": [
       "region\n",
       "APAC           27\n",
       "CIS            25\n",
       "EU           2518\n",
       "N.America     104\n",
       "Name: user_id, dtype: int64"
      ]
     },
     "metadata": {},
     "output_type": "display_data"
    },
    {
     "data": {
      "text/plain": [
       "first_date\n",
       "2020-12-07    262\n",
       "2020-12-08    190\n",
       "2020-12-09     79\n",
       "2020-12-10    256\n",
       "2020-12-11    146\n",
       "2020-12-12    331\n",
       "2020-12-13    459\n",
       "2020-12-14    181\n",
       "2020-12-15    104\n",
       "2020-12-16     16\n",
       "2020-12-17     95\n",
       "2020-12-18    108\n",
       "2020-12-19    127\n",
       "2020-12-20    134\n",
       "2020-12-21    186\n",
       "Name: user_id, dtype: int64"
      ]
     },
     "metadata": {},
     "output_type": "display_data"
    },
    {
     "data": {
      "text/html": [
       "<div>\n",
       "<style scoped>\n",
       "    .dataframe tbody tr th:only-of-type {\n",
       "        vertical-align: middle;\n",
       "    }\n",
       "\n",
       "    .dataframe tbody tr th {\n",
       "        vertical-align: top;\n",
       "    }\n",
       "\n",
       "    .dataframe thead th {\n",
       "        text-align: right;\n",
       "    }\n",
       "</style>\n",
       "<table border=\"1\" class=\"dataframe\">\n",
       "  <thead>\n",
       "    <tr style=\"text-align: right;\">\n",
       "      <th></th>\n",
       "      <th>user_id</th>\n",
       "      <th>group</th>\n",
       "      <th>ab_test</th>\n",
       "      <th>first_date</th>\n",
       "      <th>region</th>\n",
       "      <th>device</th>\n",
       "      <th>event_dt</th>\n",
       "      <th>event_name</th>\n",
       "      <th>details</th>\n",
       "    </tr>\n",
       "  </thead>\n",
       "  <tbody>\n",
       "  </tbody>\n",
       "</table>\n",
       "</div>"
      ],
      "text/plain": [
       "Empty DataFrame\n",
       "Columns: [user_id, group, ab_test, first_date, region, device, event_dt, event_name, details]\n",
       "Index: []"
      ]
     },
     "execution_count": 29,
     "metadata": {},
     "output_type": "execute_result"
    }
   ],
   "source": [
    "# выводим в отдельно данные по потерянным, сверяем цифры\n",
    "check_losses = participants_to_users.query('user_id not in @events_final.user_id')\n",
    "display(check_losses.groupby('group')['user_id'].nunique())\n",
    "display(check_losses.groupby('region')['user_id'].nunique())\n",
    "display(check_losses.groupby('first_date')['user_id'].nunique())\n",
    "# присоединяем к ним events\n",
    "check_losses = check_losses.merge(events, on='user_id')\n",
    "check_losses"
   ]
  },
  {
   "cell_type": "markdown",
   "id": "d55d1b47",
   "metadata": {},
   "source": [
    "**Итак, что мы видим:**\n",
    "    \n",
    "* при соединении было потеряно ~ 45 % пользователей - 2674,\n",
    "* прицельно для группы В - 67,5 %, т.е. бОльшая часть потерянных относятся именно к ней ( 963/1711)\n",
    "* бОльшая часть потерянных из EU (2518)\n",
    "* регистрировались с 07.12.2020 по 21.12.2020, меньше всего 16.12.2020(16), больше всего 13.12.2020(459).\n",
    "\n",
    "И, что самое важное, эти пользователи остались без событий. Т.е. мы можем предположить, что была проблема с логином именно из EU. Этот технический момент обязательно требует проверки. А те, кто в итоге \"прорвался\" в тест использовали VPN? Находились в другой стране?"
   ]
  },
  {
   "cell_type": "code",
   "execution_count": 30,
   "id": "82f521c3",
   "metadata": {},
   "outputs": [],
   "source": [
    "# дополним финальную табличку корректным лайфтайом; разница - регистрацией/событие\n",
    "events_final['difference'] = events_final['event_dt'] - events_final['first_date']"
   ]
  },
  {
   "cell_type": "code",
   "execution_count": 31,
   "id": "fdeec2dd",
   "metadata": {},
   "outputs": [],
   "source": [
    "horizont = pd.Timedelta(days=14)\n",
    "\n",
    "events_final = events_final[events_final['difference'] <= horizont]"
   ]
  },
  {
   "cell_type": "markdown",
   "id": "f9e57d55",
   "metadata": {},
   "source": [
    "Нам важен выделенный период, т.к. согласно ТЗ, мы ожилаем, что за 14 дней с момента регистрации пользователи покажут улучшение каждой метрики не менее, чем на 10%. Т.е. оценивая воронку надо учитывать эти сроки."
   ]
  },
  {
   "cell_type": "markdown",
   "id": "84adeb7d",
   "metadata": {},
   "source": [
    "**Шаг 2. Итоги.**\n",
    "\n",
    "Отмечены нарушения с точки зрения ТЗ:\n",
    "\n",
    "- дата остановки набора новых пользователей 2020-12-23, а в ТЗ указано, что 2020-12-21, однако, именно для нашего теста дата корректная - 2020-12-21.\n",
    "- последнее событие теста - 2020-12-30 23:36:33, а согласно ТЗ тест должен был продолжаться до 2021-01-04;\n",
    "- до остановки теста, в период с 25.12.2020 по 03.01.2021 в EU проводилась акция \"Christmas&New Year Promo\";\n",
    "- параллельно с нашим тестом шел другой. В обоих тестах участвовали 1602 пользователя, из них в гр. В второго теста -\"interface_eu_test\" - 783 пользователя. Мы убедились, что участники из группы В второго теста распределены в нашем равномерно, однако, во избежании влияния отсекли их.\n",
    "- кол-во пользователей в группах нашего теста существенно различается - 3385 - А, 2533 - В. \n",
    "- соответственно общее кол-во участников  меньше ожидаемого - 5918 ( ожидание - 6000),\n",
    "- кол-во новых пользователей из EU 13,98% (по ТЗ - 15%); но стоит помнить, что участников второго теста из группы В мы отсекли.\n",
    "\n",
    "*После формирования финальной таблицы(лайфтайм учтен) получились группы:*\n",
    "A    2422\n",
    "B     822\n",
    "\n",
    "Что было отмечено по потерянным пользователям: \n",
    "\n",
    "- при соединении было потеряно ~ 45 % пользователей - 2674,\n",
    "- рицельно для группы В - 67,5 %, т.е. бОльшая часть потерянных относятся именно к ней ( 963/1711),\n",
    "- бОльшая часть потерянных из EU (2518),\n",
    "- регистрировались с 07.12.2020 по 21.12.2020, меньше всего 16.12.2020(16), больше всего 13.12.2020(459).\n",
    "\n",
    "И, что самое важное, эти пользователи остались без событий. Т.е. мы можем предположить, что была проблема с логином именно из EU. Этот технический момент обязательно требует проверки. А те, кто в итоге \"прорвался\" в тест использовали VPN? Находились в другой стране?\n",
    "\n",
    "С учетом вышесказанного, пользователей из других регионов, оставшихся в тесте после обработки принято решение не отсекать."
   ]
  },
  {
   "cell_type": "markdown",
   "id": "0dc72dc0",
   "metadata": {},
   "source": [
    "#### Шаг 3. Исследовательский анализ данных."
   ]
  },
  {
   "cell_type": "code",
   "execution_count": 32,
   "id": "337c5ce5",
   "metadata": {},
   "outputs": [
    {
     "data": {
      "image/png": "[encoded data removed]"
     },
     "metadata": {},
     "output_type": "display_data"
    }
   ],
   "source": [
    "for_logs = events_final\n",
    "for_logs['event_dt'] = pd.to_datetime(for_logs['event_dt']).dt.date\n",
    "for_logs_total = for_logs.groupby('event_dt')\\\n",
    "    .agg({'user_id':'count'}) \\\n",
    "    .rename(columns={'user_id': 'count_logs'}) \\\n",
    "    .reset_index()\n",
    "\n",
    "fig = px.bar(for_logs_total, x='event_dt', y=\"count_logs\",\\\n",
    "             width=800,height =500,\\\n",
    "             labels={\n",
    "                     'event_dt': 'Дата',\n",
    "                     'count_logs': 'Кол-во логов',\n",
    "                 },\n",
    "                title='Распределение логов по дате и времени')\n",
    "fig.show()"
   ]
  },
  {
   "cell_type": "markdown",
   "id": "17ecd2eb",
   "metadata": {},
   "source": [
    "**Вывод:** видим подъем ~ с 14.12.2020, пик ~ на 21.12.2020 с постепенным снижение к 25.12.2020 - вероятно, это может быть связано с подготовкой к празднику- Рождеству."
   ]
  },
  {
   "cell_type": "code",
   "execution_count": 33,
   "id": "9cc8dc5c",
   "metadata": {},
   "outputs": [
    {
     "data": {
      "text/html": [
       "<div>\n",
       "<style scoped>\n",
       "    .dataframe tbody tr th:only-of-type {\n",
       "        vertical-align: middle;\n",
       "    }\n",
       "\n",
       "    .dataframe tbody tr th {\n",
       "        vertical-align: top;\n",
       "    }\n",
       "\n",
       "    .dataframe thead th {\n",
       "        text-align: right;\n",
       "    }\n",
       "</style>\n",
       "<table border=\"1\" class=\"dataframe\">\n",
       "  <thead>\n",
       "    <tr style=\"text-align: right;\">\n",
       "      <th></th>\n",
       "      <th>events_count</th>\n",
       "    </tr>\n",
       "  </thead>\n",
       "  <tbody>\n",
       "    <tr>\n",
       "      <th>count</th>\n",
       "      <td>3244.000000</td>\n",
       "    </tr>\n",
       "    <tr>\n",
       "      <th>mean</th>\n",
       "      <td>6.499692</td>\n",
       "    </tr>\n",
       "    <tr>\n",
       "      <th>std</th>\n",
       "      <td>3.726504</td>\n",
       "    </tr>\n",
       "    <tr>\n",
       "      <th>min</th>\n",
       "      <td>1.000000</td>\n",
       "    </tr>\n",
       "    <tr>\n",
       "      <th>25%</th>\n",
       "      <td>4.000000</td>\n",
       "    </tr>\n",
       "    <tr>\n",
       "      <th>50%</th>\n",
       "      <td>6.000000</td>\n",
       "    </tr>\n",
       "    <tr>\n",
       "      <th>75%</th>\n",
       "      <td>9.000000</td>\n",
       "    </tr>\n",
       "    <tr>\n",
       "      <th>max</th>\n",
       "      <td>24.000000</td>\n",
       "    </tr>\n",
       "  </tbody>\n",
       "</table>\n",
       "</div>"
      ],
      "text/plain": [
       "       events_count\n",
       "count   3244.000000\n",
       "mean       6.499692\n",
       "std        3.726504\n",
       "min        1.000000\n",
       "25%        4.000000\n",
       "50%        6.000000\n",
       "75%        9.000000\n",
       "max       24.000000"
      ]
     },
     "metadata": {},
     "output_type": "display_data"
    },
    {
     "data": {
      "image/png": "[encoded data removed]"
     },
     "metadata": {},
     "output_type": "display_data"
    }
   ],
   "source": [
    "# посмотрим, сколько событий в среднем приходится на пользователя:\n",
    "events_to_user = events_final.groupby('user_id').agg({'event_name': 'count'}) \\\n",
    "    .reset_index() \\\n",
    "    .rename(columns={'event_name':'events_count'})\n",
    "display(events_to_user.describe())\n",
    "events_to_user['total'] = events_to_user.groupby('events_count')['user_id'].transform('count')\n",
    "events_to_user_bar = events_to_user.groupby('events_count').agg({'total':'sum'}) \\\n",
    "    .reset_index()\n",
    "events_to_user_bar['percent'] = (events_to_user_bar['total'] /events_to_user_bar['total'].sum())*100\n",
    "\n",
    "fig = px.bar(events_to_user_bar, x='events_count', y='percent',\\\n",
    "             width=800,height =500,\\\n",
    "             labels={\n",
    "                     'events_count': 'Кол-во событий',\n",
    "                     'percent': 'Доля пользователей',\n",
    "                 },\n",
    "                title='Распределение событий на пользователя')\n",
    "fig.show()"
   ]
  },
  {
   "cell_type": "markdown",
   "id": "1766d22e",
   "metadata": {},
   "source": [
    "**Вывод:** в среднем, на пользователя приходится ~ 6 событий. Минимум - 1, максимум - 24."
   ]
  },
  {
   "cell_type": "markdown",
   "id": "5aa45afc",
   "metadata": {},
   "source": [
    "* Далее посмотрим, какие события есть в логах, как часто они встречаются? Отсортируем события по частоте."
   ]
  },
  {
   "cell_type": "code",
   "execution_count": 34,
   "id": "269ebdbe",
   "metadata": {},
   "outputs": [
    {
     "data": {
      "text/html": [
       "<div>\n",
       "<style scoped>\n",
       "    .dataframe tbody tr th:only-of-type {\n",
       "        vertical-align: middle;\n",
       "    }\n",
       "\n",
       "    .dataframe tbody tr th {\n",
       "        vertical-align: top;\n",
       "    }\n",
       "\n",
       "    .dataframe thead th {\n",
       "        text-align: right;\n",
       "    }\n",
       "</style>\n",
       "<table border=\"1\" class=\"dataframe\">\n",
       "  <thead>\n",
       "    <tr style=\"text-align: right;\">\n",
       "      <th></th>\n",
       "      <th>events_amount</th>\n",
       "    </tr>\n",
       "    <tr>\n",
       "      <th>event_name</th>\n",
       "      <th></th>\n",
       "    </tr>\n",
       "  </thead>\n",
       "  <tbody>\n",
       "    <tr>\n",
       "      <th>login</th>\n",
       "      <td>189552</td>\n",
       "    </tr>\n",
       "    <tr>\n",
       "      <th>product_page</th>\n",
       "      <td>125563</td>\n",
       "    </tr>\n",
       "    <tr>\n",
       "      <th>purchase</th>\n",
       "      <td>62740</td>\n",
       "    </tr>\n",
       "    <tr>\n",
       "      <th>product_cart</th>\n",
       "      <td>62462</td>\n",
       "    </tr>\n",
       "  </tbody>\n",
       "</table>\n",
       "</div>"
      ],
      "text/plain": [
       "              events_amount\n",
       "event_name                 \n",
       "login                189552\n",
       "product_page         125563\n",
       "purchase              62740\n",
       "product_cart          62462"
      ]
     },
     "metadata": {},
     "output_type": "display_data"
    },
    {
     "data": {
      "image/png": "[encoded data removed]",
      "text/plain": [
       "<Figure size 1200x900 with 1 Axes>"
      ]
     },
     "metadata": {},
     "output_type": "display_data"
    }
   ],
   "source": [
    "event_diff = events.groupby('event_name') \\\n",
    ".agg({'user_id': 'count'}) \\\n",
    ".rename(columns={'user_id': 'events_amount'})\n",
    "\n",
    "display(event_diff.sort_values(by='events_amount',ascending=False))\n",
    "\n",
    "explode = (0.05, 0.05, 0.05, 0.05)\n",
    "fig1, ax1 = plt.subplots(figsize=(12,9))\n",
    "ax1.pie(event_diff['events_amount'],labels = event_diff.index,autopct='%1.1f%%', explode=explode)\n",
    "ax1.set_title('Соотношение совершенных событий');"
   ]
  },
  {
   "cell_type": "markdown",
   "id": "9c88a890",
   "metadata": {},
   "source": [
    "**В нашем распоряжении 4 вида событий, распределенных по частоте следующим образом:**\n",
    "- login - авторизация - 9545 (45,3 %)\n",
    "- product_page - просмотр карточек товаров - 5898 (28 %)\n",
    "- purchase - покупка - 2848 (13,5 %)\n",
    "- product_cart - просмотр корзины - 2794 (13,3 %)"
   ]
  },
  {
   "cell_type": "markdown",
   "id": "4a6b5b2a",
   "metadata": {},
   "source": [
    "* Посчитаем частоту совершения имеющихся в нашем распоряжении событий"
   ]
  },
  {
   "cell_type": "code",
   "execution_count": 35,
   "id": "04cce0cd",
   "metadata": {
    "scrolled": false
   },
   "outputs": [
    {
     "data": {
      "text/html": [
       "<div>\n",
       "<style scoped>\n",
       "    .dataframe tbody tr th:only-of-type {\n",
       "        vertical-align: middle;\n",
       "    }\n",
       "\n",
       "    .dataframe tbody tr th {\n",
       "        vertical-align: top;\n",
       "    }\n",
       "\n",
       "    .dataframe thead th {\n",
       "        text-align: right;\n",
       "    }\n",
       "</style>\n",
       "<table border=\"1\" class=\"dataframe\">\n",
       "  <thead>\n",
       "    <tr style=\"text-align: right;\">\n",
       "      <th></th>\n",
       "      <th>event_name</th>\n",
       "      <th>users_count</th>\n",
       "      <th>percent</th>\n",
       "    </tr>\n",
       "  </thead>\n",
       "  <tbody>\n",
       "    <tr>\n",
       "      <th>0</th>\n",
       "      <td>login</td>\n",
       "      <td>58697</td>\n",
       "      <td>99.99</td>\n",
       "    </tr>\n",
       "    <tr>\n",
       "      <th>1</th>\n",
       "      <td>product_page</td>\n",
       "      <td>38929</td>\n",
       "      <td>66.32</td>\n",
       "    </tr>\n",
       "    <tr>\n",
       "      <th>2</th>\n",
       "      <td>purchase</td>\n",
       "      <td>19569</td>\n",
       "      <td>33.34</td>\n",
       "    </tr>\n",
       "    <tr>\n",
       "      <th>3</th>\n",
       "      <td>product_cart</td>\n",
       "      <td>19284</td>\n",
       "      <td>32.85</td>\n",
       "    </tr>\n",
       "  </tbody>\n",
       "</table>\n",
       "</div>"
      ],
      "text/plain": [
       "     event_name  users_count  percent\n",
       "0         login        58697    99.99\n",
       "1  product_page        38929    66.32\n",
       "2      purchase        19569    33.34\n",
       "3  product_cart        19284    32.85"
      ]
     },
     "metadata": {},
     "output_type": "display_data"
    },
    {
     "data": {
      "image/png": "[encoded data removed]",
      "text/plain": [
       "<Figure size 1200x500 with 1 Axes>"
      ]
     },
     "metadata": {},
     "output_type": "display_data"
    }
   ],
   "source": [
    "event_type_to_user = events.groupby('event_name').agg({'user_id': 'nunique'}) \\\n",
    "    .rename(columns={'user_id' : 'users_count'})\\\n",
    "    .sort_values(by='users_count', ascending=False)\\\n",
    "    .reset_index()\n",
    "event_type_to_user['percent'] = event_type_to_user['users_count'] / events['user_id'].nunique() * 100\n",
    "display(event_type_to_user.round(2))\n",
    "\n",
    "\n",
    "plt.figure(figsize=(12, 5))\n",
    "ax = sns.barplot(x='percent', y='event_name', data=event_type_to_user)\n",
    "ax.set(xlabel='%-доля',\n",
    "       ylabel='Вид события',\n",
    "       title='Частота совершения событий')\n",
    "plt.show()"
   ]
  },
  {
   "cell_type": "markdown",
   "id": "2d45a761",
   "metadata": {},
   "source": [
    "Обращает на себя внимание порядок событий. Т.е. мы видим, что доля тех, кто совершил покупку чуть больше тех,кто перешел в корзину. Для дальнейшего исследования нам необходим корректный порядок. По алфавиту сортирование не будет верным, можно создать доп.числовой столбец. "
   ]
  },
  {
   "cell_type": "code",
   "execution_count": 36,
   "id": "e88d1c0a",
   "metadata": {},
   "outputs": [
    {
     "data": {
      "text/html": [
       "<div>\n",
       "<style scoped>\n",
       "    .dataframe tbody tr th:only-of-type {\n",
       "        vertical-align: middle;\n",
       "    }\n",
       "\n",
       "    .dataframe tbody tr th {\n",
       "        vertical-align: top;\n",
       "    }\n",
       "\n",
       "    .dataframe thead th {\n",
       "        text-align: right;\n",
       "    }\n",
       "</style>\n",
       "<table border=\"1\" class=\"dataframe\">\n",
       "  <thead>\n",
       "    <tr style=\"text-align: right;\">\n",
       "      <th></th>\n",
       "      <th>event_name</th>\n",
       "      <th>users_count</th>\n",
       "      <th>percent</th>\n",
       "      <th>right_order</th>\n",
       "    </tr>\n",
       "  </thead>\n",
       "  <tbody>\n",
       "    <tr>\n",
       "      <th>0</th>\n",
       "      <td>login</td>\n",
       "      <td>58697</td>\n",
       "      <td>99.989779</td>\n",
       "      <td>1</td>\n",
       "    </tr>\n",
       "    <tr>\n",
       "      <th>1</th>\n",
       "      <td>product_page</td>\n",
       "      <td>38929</td>\n",
       "      <td>66.315180</td>\n",
       "      <td>2</td>\n",
       "    </tr>\n",
       "    <tr>\n",
       "      <th>2</th>\n",
       "      <td>product_cart</td>\n",
       "      <td>19284</td>\n",
       "      <td>32.850110</td>\n",
       "      <td>3</td>\n",
       "    </tr>\n",
       "    <tr>\n",
       "      <th>3</th>\n",
       "      <td>purchase</td>\n",
       "      <td>19569</td>\n",
       "      <td>33.335605</td>\n",
       "      <td>4</td>\n",
       "    </tr>\n",
       "  </tbody>\n",
       "</table>\n",
       "</div>"
      ],
      "text/plain": [
       "     event_name  users_count    percent  right_order\n",
       "0         login        58697  99.989779            1\n",
       "1  product_page        38929  66.315180            2\n",
       "2  product_cart        19284  32.850110            3\n",
       "3      purchase        19569  33.335605            4"
      ]
     },
     "execution_count": 36,
     "metadata": {},
     "output_type": "execute_result"
    }
   ],
   "source": [
    "event_type_to_user['right_order'] = [1, 2, 4, 3]\n",
    "event_type_to_user = event_type_to_user.sort_values(by='right_order')\n",
    "event_type_to_user = event_type_to_user.reset_index(drop=True)\n",
    "event_type_to_user"
   ]
  },
  {
   "cell_type": "markdown",
   "id": "61e85fde",
   "metadata": {},
   "source": [
    "* Построим воронку событий "
   ]
  },
  {
   "cell_type": "code",
   "execution_count": 37,
   "id": "a7dd9c67",
   "metadata": {},
   "outputs": [
    {
     "data": {
      "text/html": [
       "<div>\n",
       "<style scoped>\n",
       "    .dataframe tbody tr th:only-of-type {\n",
       "        vertical-align: middle;\n",
       "    }\n",
       "\n",
       "    .dataframe tbody tr th {\n",
       "        vertical-align: top;\n",
       "    }\n",
       "\n",
       "    .dataframe thead th {\n",
       "        text-align: right;\n",
       "    }\n",
       "</style>\n",
       "<table border=\"1\" class=\"dataframe\">\n",
       "  <thead>\n",
       "    <tr style=\"text-align: right;\">\n",
       "      <th></th>\n",
       "      <th>event_name</th>\n",
       "      <th>users_count</th>\n",
       "      <th>percent</th>\n",
       "      <th>right_order</th>\n",
       "    </tr>\n",
       "  </thead>\n",
       "  <tbody>\n",
       "    <tr>\n",
       "      <th>0</th>\n",
       "      <td>login</td>\n",
       "      <td>58697</td>\n",
       "      <td>99.989779</td>\n",
       "      <td>1</td>\n",
       "    </tr>\n",
       "    <tr>\n",
       "      <th>1</th>\n",
       "      <td>product_page</td>\n",
       "      <td>38929</td>\n",
       "      <td>66.315180</td>\n",
       "      <td>2</td>\n",
       "    </tr>\n",
       "    <tr>\n",
       "      <th>2</th>\n",
       "      <td>product_cart</td>\n",
       "      <td>19284</td>\n",
       "      <td>32.850110</td>\n",
       "      <td>3</td>\n",
       "    </tr>\n",
       "    <tr>\n",
       "      <th>3</th>\n",
       "      <td>purchase</td>\n",
       "      <td>19569</td>\n",
       "      <td>33.335605</td>\n",
       "      <td>4</td>\n",
       "    </tr>\n",
       "  </tbody>\n",
       "</table>\n",
       "</div>"
      ],
      "text/plain": [
       "     event_name  users_count    percent  right_order\n",
       "0         login        58697  99.989779            1\n",
       "1  product_page        38929  66.315180            2\n",
       "2  product_cart        19284  32.850110            3\n",
       "3      purchase        19569  33.335605            4"
      ]
     },
     "metadata": {},
     "output_type": "display_data"
    },
    {
     "data": {
      "image/png": "[encoded data removed]"
     },
     "metadata": {},
     "output_type": "display_data"
    },
    {
     "data": {
      "image/png": "[encoded data removed]"
     },
     "metadata": {},
     "output_type": "display_data"
    }
   ],
   "source": [
    "display(event_type_to_user)\n",
    "\n",
    "fig = go.Figure(go.Funnel(y = event_type_to_user['event_name'],\n",
    "    x = event_type_to_user['users_count'],\n",
    "    textposition = \"inside\",\n",
    "    textinfo = \"value+percent previous\",\n",
    "    marker = {\"color\": [\"red\", \"blue\", \"orange\", \"green\"]}))\n",
    "fig.update_layout(title_text='Общая воронка событий',\n",
    "                 yaxis_title = 'Виды событий')\n",
    "fig.show()\n",
    "\n",
    "\n",
    "fig = go.Figure(go.Funnel(y = event_type_to_user['event_name'],\n",
    "    x = event_type_to_user['users_count'],\n",
    "    textposition = \"inside\",\n",
    "    textinfo = \"value+percent initial\",\n",
    "    marker = {\"color\": [\"red\", \"blue\", \"orange\", \"green\"]}))\n",
    "fig.update_layout(title_text='Воронка событий - оценка доли доходящих от первого шага до оплаты',\n",
    "                 yaxis_title = 'Виды событий')\n",
    "fig.show()"
   ]
  },
  {
   "cell_type": "markdown",
   "id": "11296d7f",
   "metadata": {},
   "source": [
    "**Вывод:**\n",
    "- наибольшее количество пользователей теряется после первого события (~37%), если дело \"дошло до корзины\", то к оплате переходят более 100 % польвателей? Такого быть не может, вероятно, есть возможность оплаты без перехода в корзину(\"по клику\", со страницы карточки товара, например).\n",
    "\n",
    "- только 31% от первоначального количества пользователей успешно оплачивают товары, добавленные в корзину."
   ]
  },
  {
   "cell_type": "markdown",
   "id": "a3289d28",
   "metadata": {},
   "source": [
    "* Посмотрим, на различия по группам нашего теста - распеределение логов, пользователей"
   ]
  },
  {
   "cell_type": "code",
   "execution_count": 38,
   "id": "3236283d",
   "metadata": {},
   "outputs": [
    {
     "data": {
      "image/png": "[encoded data removed]"
     },
     "metadata": {},
     "output_type": "display_data"
    }
   ],
   "source": [
    "for_logs_by_group= for_logs.groupby(['group','event_dt'])\\\n",
    "    .agg({'user_id':'count'}) \\\n",
    "    .rename(columns={'user_id': 'count_logs'}) \\\n",
    "    .reset_index()\n",
    "\n",
    "fig = px.bar(for_logs_by_group, x='event_dt', y=\"count_logs\",\\\n",
    "             color='group',width=800,height =500,\\\n",
    "             labels={\n",
    "                     'event_dt': 'Дата',\n",
    "                     'count_logs': 'Кол-во логов',\n",
    "                 },\n",
    "                title='Распределение логов по дате и времени')\n",
    "fig.show()"
   ]
  },
  {
   "cell_type": "code",
   "execution_count": 39,
   "id": "71bf288d",
   "metadata": {},
   "outputs": [
    {
     "data": {
      "image/png": "[encoded data removed]"
     },
     "metadata": {},
     "output_type": "display_data"
    }
   ],
   "source": [
    "events_users_by_groups = events_final.groupby(['user_id','group']).agg({'event_name': 'count'}) \\\n",
    "    .reset_index() \\\n",
    "    .rename(columns={'event_name':'events_count'})\n",
    "\n",
    "events_users_by_groups['total'] = events_users_by_groups.groupby('events_count')['user_id'].transform('count')\n",
    "\n",
    "events_users_by_groups_bar = events_users_by_groups.groupby(['group','events_count']).agg({'total':'sum'}) \\\n",
    "  .reset_index()\n",
    "\n",
    "events_users_by_groups_bar['percent'] = (events_users_by_groups_bar['total'] /events_users_by_groups_bar['total'].sum())*100\n",
    "\n",
    "\n",
    "fig = px.bar(events_users_by_groups_bar, x='events_count', y='percent',\\\n",
    "             color='group',width=800,height =500,\\\n",
    "             labels={\n",
    "                     'events_count': 'Кол-во событий',\n",
    "                     'percent': 'Доля пользователей',\n",
    "                 },\n",
    "                title='Распределение событий на пользователя')\n",
    "fig.show()"
   ]
  },
  {
   "cell_type": "markdown",
   "id": "90c45193",
   "metadata": {},
   "source": [
    "* Ожидаемо, видим, что активность группы В ниже. "
   ]
  },
  {
   "cell_type": "code",
   "execution_count": 40,
   "id": "8b4f4e6a",
   "metadata": {},
   "outputs": [
    {
     "data": {
      "text/html": [
       "<div>\n",
       "<style scoped>\n",
       "    .dataframe tbody tr th:only-of-type {\n",
       "        vertical-align: middle;\n",
       "    }\n",
       "\n",
       "    .dataframe tbody tr th {\n",
       "        vertical-align: top;\n",
       "    }\n",
       "\n",
       "    .dataframe thead th {\n",
       "        text-align: right;\n",
       "    }\n",
       "</style>\n",
       "<table border=\"1\" class=\"dataframe\">\n",
       "  <thead>\n",
       "    <tr style=\"text-align: right;\">\n",
       "      <th></th>\n",
       "      <th>event_name</th>\n",
       "      <th>group</th>\n",
       "      <th>users_count</th>\n",
       "      <th>right_order</th>\n",
       "      <th>different_previous</th>\n",
       "      <th>different_initial</th>\n",
       "    </tr>\n",
       "  </thead>\n",
       "  <tbody>\n",
       "    <tr>\n",
       "      <th>0</th>\n",
       "      <td>login</td>\n",
       "      <td>B</td>\n",
       "      <td>821</td>\n",
       "      <td>1</td>\n",
       "      <td>100.00</td>\n",
       "      <td>100.00</td>\n",
       "    </tr>\n",
       "    <tr>\n",
       "      <th>1</th>\n",
       "      <td>product_page</td>\n",
       "      <td>B</td>\n",
       "      <td>459</td>\n",
       "      <td>2</td>\n",
       "      <td>55.91</td>\n",
       "      <td>55.91</td>\n",
       "    </tr>\n",
       "    <tr>\n",
       "      <th>2</th>\n",
       "      <td>product_cart</td>\n",
       "      <td>B</td>\n",
       "      <td>225</td>\n",
       "      <td>3</td>\n",
       "      <td>49.02</td>\n",
       "      <td>27.41</td>\n",
       "    </tr>\n",
       "    <tr>\n",
       "      <th>3</th>\n",
       "      <td>purchase</td>\n",
       "      <td>B</td>\n",
       "      <td>226</td>\n",
       "      <td>4</td>\n",
       "      <td>100.44</td>\n",
       "      <td>27.53</td>\n",
       "    </tr>\n",
       "    <tr>\n",
       "      <th>4</th>\n",
       "      <td>login</td>\n",
       "      <td>A</td>\n",
       "      <td>2422</td>\n",
       "      <td>5</td>\n",
       "      <td>100.00</td>\n",
       "      <td>100.00</td>\n",
       "    </tr>\n",
       "    <tr>\n",
       "      <th>5</th>\n",
       "      <td>product_page</td>\n",
       "      <td>A</td>\n",
       "      <td>1571</td>\n",
       "      <td>6</td>\n",
       "      <td>64.86</td>\n",
       "      <td>64.86</td>\n",
       "    </tr>\n",
       "    <tr>\n",
       "      <th>6</th>\n",
       "      <td>product_cart</td>\n",
       "      <td>A</td>\n",
       "      <td>728</td>\n",
       "      <td>7</td>\n",
       "      <td>46.34</td>\n",
       "      <td>30.06</td>\n",
       "    </tr>\n",
       "    <tr>\n",
       "      <th>7</th>\n",
       "      <td>purchase</td>\n",
       "      <td>A</td>\n",
       "      <td>773</td>\n",
       "      <td>8</td>\n",
       "      <td>106.18</td>\n",
       "      <td>31.92</td>\n",
       "    </tr>\n",
       "  </tbody>\n",
       "</table>\n",
       "</div>"
      ],
      "text/plain": [
       "     event_name group  users_count  right_order  different_previous  \\\n",
       "0         login     B          821            1              100.00   \n",
       "1  product_page     B          459            2               55.91   \n",
       "2  product_cart     B          225            3               49.02   \n",
       "3      purchase     B          226            4              100.44   \n",
       "4         login     A         2422            5              100.00   \n",
       "5  product_page     A         1571            6               64.86   \n",
       "6  product_cart     A          728            7               46.34   \n",
       "7      purchase     A          773            8              106.18   \n",
       "\n",
       "   different_initial  \n",
       "0             100.00  \n",
       "1              55.91  \n",
       "2              27.41  \n",
       "3              27.53  \n",
       "4             100.00  \n",
       "5              64.86  \n",
       "6              30.06  \n",
       "7              31.92  "
      ]
     },
     "execution_count": 40,
     "metadata": {},
     "output_type": "execute_result"
    }
   ],
   "source": [
    "#  объединим разбивку по событиям в гр. А и В в одну табличку, зададим верный порядок\n",
    "\n",
    "both_groups = events_final.groupby(['event_name', 'group']) \\\n",
    "    .agg({'user_id': 'nunique'}) \\\n",
    "    .reset_index() \\\n",
    "    .rename(columns={'user_id' : 'users_count'})\\\n",
    "    .sort_values(by=['group','users_count'], ascending=False)\n",
    "both_groups['right_order'] = [1, 2, 4, 3, 5, 6, 8, 7]\n",
    "both_groups = both_groups.sort_values(by='right_order')\n",
    "both_groups = both_groups.reset_index(drop=True)\n",
    "\n",
    "A_max = both_groups[both_groups['group'] == 'A']['users_count'].max()\n",
    "B_max = both_groups[both_groups['group'] == 'B']['users_count'].max()\n",
    "\n",
    "both_groups['different_previous'] = both_groups['users_count'] / both_groups.groupby('group')['users_count'].shift(1) * 100\n",
    "both_groups['different_previous'] = round(both_groups['different_previous'].fillna(100),2)\n",
    "\n",
    "both_groups['different_initial'] = both_groups.apply(\n",
    "    lambda row: row['users_count'] / B_max * 100 if row['group'] == 'B' else row['users_count'] / A_max * 100,\n",
    "    axis=1\n",
    ")\n",
    "\n",
    "both_groups['different_initial'] = round(both_groups['different_initial'],2)\n",
    "both_groups"
   ]
  },
  {
   "cell_type": "code",
   "execution_count": 41,
   "id": "0dc646aa",
   "metadata": {},
   "outputs": [
    {
     "data": {
      "image/png": "[encoded data removed]"
     },
     "metadata": {},
     "output_type": "display_data"
    },
    {
     "data": {
      "image/png": "[encoded data removed]"
     },
     "metadata": {},
     "output_type": "display_data"
    }
   ],
   "source": [
    "fig = go.Figure()\n",
    "\n",
    "fig.add_trace(go.Funnel(name = 'Группа А',\n",
    "                        y = both_groups.query('group == \"A\"')['event_name'],\n",
    "                        x = both_groups.query('group == \"A\"')['users_count'],\n",
    "                        textposition = 'inside',\n",
    "                        textinfo = 'value + percent previous'))\n",
    "\n",
    "fig.add_trace(go.Funnel(name = 'Группа В',\n",
    "                        y = both_groups.query('group == \"B\"')['event_name'],\n",
    "                        x = both_groups.query('group == \"B\"')['users_count'],\n",
    "                        textposition = 'inside',\n",
    "                        textinfo = 'value + percent previous'))\n",
    "                        \n",
    "fig.update_layout(title_text='Воронка событий по группам',\n",
    "                 yaxis_title = 'Виды событий')\n",
    "fig.show()\n",
    "\n",
    "fig = go.Figure()\n",
    "\n",
    "fig.add_trace(go.Funnel(name = 'Группа А',\n",
    "                        y = both_groups.query('group == \"A\"')['event_name'],\n",
    "                        x = both_groups.query('group == \"A\"')['users_count'],\n",
    "                        textposition = 'inside',\n",
    "                        textinfo = 'value + percent initial'))\n",
    "\n",
    "fig.add_trace(go.Funnel(name = 'Группа В',\n",
    "                        y = both_groups.query('group == \"B\"')['event_name'],\n",
    "                        x = both_groups.query('group == \"B\"')['users_count'],\n",
    "                        textposition = 'inside',\n",
    "                        textinfo = 'value + percent initial'))\n",
    "                        \n",
    "fig.update_layout(title_text='Воронка событий по группам - оценка доли доходящих от первого шага до оплаты',\n",
    "                 yaxis_title = 'Виды событий')\n",
    "fig.show()"
   ]
  },
  {
   "cell_type": "markdown",
   "id": "4c4e4ccc",
   "metadata": {},
   "source": [
    "**Вывод:**\n",
    "\n",
    "В разбивке по группам картина аналогична -  наибольшее количество пользователей теряется после первого шага:\n",
    "- ~ 35 % - гр. А,\n",
    "- ~ 44 % - гр. В.\n",
    "\n",
    "Что касается целевого увеличения метрики в 10 % группе В не удалось его достигнуть. Группа В уступает группе А. Распределение % (повышение при переходе к оплате), вероятно, как ранее отмечалось, связано с возможностью оплаты без перехода в корзину. "
   ]
  },
  {
   "cell_type": "markdown",
   "id": "b6107fca",
   "metadata": {},
   "source": [
    "**Шаг 3. Итоги.**\n",
    "\n",
    "- по логам видим подъем ~ с 14.12.2020, пик ~ на 21.12.2020 с постепенным снижение к 25.12.2020 - вероятно, это может быть связано с подготовкой к празднику- Рождеству;\n",
    "\n",
    "- в среднем, на пользователя приходится ~ 6 событий. Минимум - 1, максимум - 24;\n",
    "\n",
    "- в нашем распоряжении 4 вида событий, распределенных по частоте следующим образом:**\n",
    "\n",
    "*login - авторизация - 9545 (45,3 %)\n",
    "*product_page - просмотр карточек товаров - 5898 (28 %)\n",
    "*purchase - покупка - 2848 (13,5 %)\n",
    "*product_cart - просмотр корзины - 2794 (13,3 %);\n",
    "\n",
    "\n",
    "- обращает на себя внимание порядок событий. Т.е. мы видим, что доля тех, кто совершил покупку чуть больше тех,кто перешел в корзину. Наибольшее количество пользователей теряется после первого события (~37%), если дело \"дошло до корзины\", то к оплате переходят более 100 % польвателей? Такого быть не может, вероятно, есть возможность оплаты без перехода в корзину(\"по клику\", со страницы карточки товара, например);\n",
    "\n",
    "- только 31% от первоначального количества пользователей успешно оплачивают товары, добавленные в корзину;\n",
    "\n",
    "- ожидаемо, видим, что кол-во событий на пользователя в группе В ниже;\n",
    "\n",
    "- в разбивке по группам картина аналогична -  наибольшее количество пользователей теряется после первого шага:\n",
    "\n",
    "~ 35 % - гр. А,\n",
    "~ 44 % - гр. В.\n",
    "Вновь видим, что пользователи, вероятно, используют возможность оплаты без перехода в корзину."
   ]
  },
  {
   "cell_type": "markdown",
   "id": "2aadace5",
   "metadata": {},
   "source": [
    "#### Шаг 4. Оценка результатов A/B-тестирования,проверка гипотез."
   ]
  },
  {
   "cell_type": "markdown",
   "id": "d37f48ad",
   "metadata": {},
   "source": [
    "Cогласно ТЗ, нам необходимо сопоставить доли уникальных пользователей - проверить три гипотезы о равенстве долей в группах А и В при конверсии в:\n",
    "\n",
    "* просмотр карточек товаров — событие product_page,\n",
    "* просмотры корзины — product_cart,\n",
    "* покупки — purchase.\n",
    "\n",
    "В нашем распоряжении 3 вида событий,  для всех тестов мы введем поправку Бонферрони bonferroni_alpha = alpha / 3, во избежании получения ложных результатов."
   ]
  },
  {
   "cell_type": "markdown",
   "id": "12f5ead8",
   "metadata": {},
   "source": [
    "Для каждого сравнения введем нулевую и альтернативную гипотезу:\n",
    "\n",
    "\n",
    "**Нулевая гипотеза:** доли уникальных пользователей, побывавших на этапе воронки одинаковы.\n",
    "\n",
    "\n",
    "**Альтернативная гипотеза:** доли уникальных пользователей, побывавших на этапе отличаются.\n"
   ]
  },
  {
   "cell_type": "code",
   "execution_count": 42,
   "id": "a2fea128",
   "metadata": {},
   "outputs": [],
   "source": [
    "# Выделем участников групп в отдельные переменные\n",
    "A_group = events_final[events_final['group'] == 'A']\n",
    "B_group = events_final[events_final['group'] == 'B']"
   ]
  },
  {
   "cell_type": "code",
   "execution_count": 43,
   "id": "33e9e681",
   "metadata": {},
   "outputs": [],
   "source": [
    "#  Так как нам потребуются аналогичные расчеты - создадим функцию\n",
    "\n",
    "def tests (A_group, B_group, event_type, alpha, n):\n",
    "\n",
    " # критический уровень статистической значимости c поправкой Бонферрони\n",
    "    alpha_with_bonferroni = alpha / n\n",
    " \n",
    "    # число пользователей в группе 1 и группе 2:\n",
    "    num_of_users = np.array([A_group['user_id'].nunique(), \n",
    "                        B_group['user_id'].nunique()])\n",
    "\n",
    "    # число пользователей, совершивших событие в группе 1 и группе 2\n",
    "    success = np.array([A_group[A_group['event_name'] == event_type]['user_id'].nunique(), \n",
    "                        B_group[B_group['event_name'] == event_type]['user_id'].nunique()])\n",
    "\n",
    "    # пропорции успехов в группах:\n",
    "    p1 = success[0]/num_of_users[0]\n",
    "    p2 = success[1]/num_of_users[1]\n",
    "    \n",
    "    # пропорция успехов в комбинированном датасете:\n",
    "    p_combined = (success[0] + success[1]) / (num_of_users[0] + num_of_users[1])\n",
    "\n",
    "    # разница пропорций в датасетах\n",
    "    difference = p1 - p2 \n",
    "\n",
    "    # считаем статистику в ст.отклонениях стандартного нормального распределения\n",
    "    z_value = difference / mth.sqrt(p_combined * (1 - p_combined) * (1/num_of_users[0] + 1/num_of_users[1]))\n",
    "\n",
    "    # задаем стандартное нормальное распределение (среднее 0, ст.отклонение 1)\n",
    "    distr = stats.norm(0, 1)  \n",
    "\n",
    "    p_value = (1 - distr.cdf(abs(z_value))) * 2   #тест двусторонний, удваиваем результат\n",
    "    \n",
    "    print('Событие:', event_type)\n",
    "    print('p-значение: ', p_value)\n",
    "\n",
    "    if p_value < alpha_with_bonferroni:\n",
    "        print('Отвергаем нулевую гипотезу - между долями есть разница')\n",
    "    else:\n",
    "        print(\n",
    "        'Не удалось отвергнуть нулевую гипотезу')"
   ]
  },
  {
   "cell_type": "code",
   "execution_count": 44,
   "id": "a6336bdf",
   "metadata": {},
   "outputs": [
    {
     "name": "stdout",
     "output_type": "stream",
     "text": [
      "Событие: product_page\n",
      "p-значение:  3.8415005565450855e-06\n",
      "Отвергаем нулевую гипотезу - между долями есть разница\n",
      "\n",
      "Событие: product_cart\n",
      "p-значение:  0.14412076974264498\n",
      "Не удалось отвергнуть нулевую гипотезу\n",
      "\n",
      "Событие: purchase\n",
      "p-значение:  0.01764968717521609\n",
      "Не удалось отвергнуть нулевую гипотезу\n",
      "\n"
     ]
    }
   ],
   "source": [
    "# согласно ТЗ нас интересуют 3 события, поэтому выд-м именно их\n",
    "for event_type in ['product_page', 'product_cart', 'purchase']: \n",
    "    tests(A_group, B_group, event_type,0.05, 3)\n",
    "    print()"
   ]
  },
  {
   "cell_type": "markdown",
   "id": "a5a3e7b3",
   "metadata": {},
   "source": [
    "#### Шаг 5. Общие выводы и заключение. "
   ]
  },
  {
   "cell_type": "markdown",
   "id": "4f8ee16a",
   "metadata": {},
   "source": [
    "Отмечены нарушения с точки зрения ТЗ:\n",
    "\n",
    "- дата остановки набора новых пользователей 2020-12-23, а в ТЗ указано, что 2020-12-21, однако, именно для нашего теста дата корректная - 2020-12-21.\n",
    "- последнее событие теста - 2020-12-30 23:36:33, а согласно ТЗ тест должен был продолжаться до 2021-01-04;\n",
    "- до остановки теста, в период с 25.12.2020 по 03.01.2021 в EU проводилась акция \"Christmas&New Year Promo\";\n",
    "- параллельно с нашим тестом шел другой. В обоих тестах участвовали 1602 пользователя, из них в гр. В второго теста -\"interface_eu_test\" - 783 пользователя. Мы убедились, что участники из группы В второго теста распределены в нашем равномерно, однако, во избежании влияния отсекли их.\n",
    "- кол-во пользователей в группах нашего теста существенно различается - 3385 - А, 2533 - В. \n",
    "- соответственно общее кол-во участников  меньше ожидаемого - 5918 ( ожидание - 6000),\n",
    "- кол-во новых пользователей из EU 13,98% (по ТЗ - 15%); но стоит помнить, что участников второго теста из группы В мы отсекли.\n",
    "\n",
    "*После формирования финальной таблицы(лайфтайм учтен) получились группы:*\n",
    "A    2422\n",
    "B     822\n",
    "\n",
    "Что было отмечено по потерянным пользователям: \n",
    "\n",
    "- при соединении было потеряно ~ 45 % пользователей - 2674,\n",
    "- рицельно для группы В - 67,5 %, т.е. бОльшая часть потерянных относятся именно к ней ( 963/1711),\n",
    "- бОльшая часть потерянных из EU (2518),\n",
    "- регистрировались с 07.12.2020 по 21.12.2020, меньше всего 16.12.2020(16), больше всего 13.12.2020(459).\n",
    "\n",
    "И, что самое важное, эти пользователи остались без событий. Т.е. мы можем предположить, что была проблема с логином именно из EU. Этот технический момент обязательно требует проверки. А те, кто в итоге \"прорвался\" в тест использовали VPN? Находились в другой стране?\n",
    "\n",
    "С учетом вышесказанного, пользователей из других регионов, оставшихся в тесте после обработки принято решение не отсекать.\n",
    "\n",
    "В/у нарушения/факторы могли серьезно повлиять на тест. В первую очередь, следует корректно выбирать время теста, чтобы оно не совпадало с проведением иных акций; убедиться в корректной работе технически, отсуствии ошибок во время теста.\n",
    "\n",
    "В ходе исследования была отмечена особенность - события имели неожиданную последовательность, покупка могла предшествовать попаданию в корзину. Предполагается, возможность быстрой оплаты. Такое стоит учитывать при проведении последующих тестов/сборе данных. \n",
    "\n",
    "По результатам проверки гипотез о равенстве долей уникальных пользователей:\n",
    "\n",
    "* доли уникальных пользователей, побывавших на этапе воронки “просмотр карточек товаров” - , отличаются. *Потери после авторизации - ~ 35 % - гр. А, ~ 44 % - гр. В.\n",
    "\n",
    "* разница в долях уникальных пользователей между группами А и В при конверсии в “просмотр корзины” и в “покупку” .\n",
    "\n",
    "\n",
    "Общее заключение  - по результатам анализа представленных данных внедрение улучшенной рекомендательной системы **не дало ожидаемого эффекта.**"
   ]
  }
 ],
 "metadata": {
  "ExecuteTimeLog": [
   {
    "duration": 1504,
    "start_time": "2023-08-08T19:36:26.823Z"
   },
   {
    "duration": 1306,
    "start_time": "2023-08-08T19:36:28.329Z"
   },
   {
    "duration": 0,
    "start_time": "2023-08-08T19:36:29.639Z"
   },
   {
    "duration": 0,
    "start_time": "2023-08-08T19:36:29.640Z"
   },
   {
    "duration": 0,
    "start_time": "2023-08-08T19:36:29.642Z"
   },
   {
    "duration": 0,
    "start_time": "2023-08-08T19:36:29.643Z"
   },
   {
    "duration": 0,
    "start_time": "2023-08-08T19:36:29.644Z"
   },
   {
    "duration": 0,
    "start_time": "2023-08-08T19:36:29.646Z"
   },
   {
    "duration": 0,
    "start_time": "2023-08-08T19:36:29.647Z"
   },
   {
    "duration": 0,
    "start_time": "2023-08-08T19:36:29.649Z"
   },
   {
    "duration": 0,
    "start_time": "2023-08-08T19:36:29.650Z"
   },
   {
    "duration": 0,
    "start_time": "2023-08-08T19:36:29.651Z"
   },
   {
    "duration": 0,
    "start_time": "2023-08-08T19:36:29.653Z"
   },
   {
    "duration": 0,
    "start_time": "2023-08-08T19:36:29.654Z"
   },
   {
    "duration": 0,
    "start_time": "2023-08-08T19:36:29.656Z"
   },
   {
    "duration": 0,
    "start_time": "2023-08-08T19:36:29.657Z"
   },
   {
    "duration": 0,
    "start_time": "2023-08-08T19:36:29.659Z"
   },
   {
    "duration": 0,
    "start_time": "2023-08-08T19:36:29.660Z"
   },
   {
    "duration": 0,
    "start_time": "2023-08-08T19:36:29.661Z"
   },
   {
    "duration": 0,
    "start_time": "2023-08-08T19:36:29.663Z"
   },
   {
    "duration": 0,
    "start_time": "2023-08-08T19:36:29.664Z"
   },
   {
    "duration": 0,
    "start_time": "2023-08-08T19:36:29.666Z"
   },
   {
    "duration": 0,
    "start_time": "2023-08-08T19:36:29.714Z"
   },
   {
    "duration": 0,
    "start_time": "2023-08-08T19:36:29.715Z"
   },
   {
    "duration": 0,
    "start_time": "2023-08-08T19:36:29.717Z"
   },
   {
    "duration": 0,
    "start_time": "2023-08-08T19:36:29.717Z"
   },
   {
    "duration": 0,
    "start_time": "2023-08-08T19:36:29.719Z"
   },
   {
    "duration": 0,
    "start_time": "2023-08-08T19:36:29.720Z"
   },
   {
    "duration": 0,
    "start_time": "2023-08-08T19:36:29.722Z"
   },
   {
    "duration": 0,
    "start_time": "2023-08-08T19:36:29.724Z"
   },
   {
    "duration": 0,
    "start_time": "2023-08-08T19:36:29.726Z"
   },
   {
    "duration": 0,
    "start_time": "2023-08-08T19:36:29.727Z"
   },
   {
    "duration": 0,
    "start_time": "2023-08-08T19:36:29.728Z"
   },
   {
    "duration": 0,
    "start_time": "2023-08-08T19:36:29.729Z"
   },
   {
    "duration": 0,
    "start_time": "2023-08-08T19:36:29.730Z"
   },
   {
    "duration": 0,
    "start_time": "2023-08-08T19:36:29.731Z"
   },
   {
    "duration": 0,
    "start_time": "2023-08-08T19:36:29.733Z"
   },
   {
    "duration": 0,
    "start_time": "2023-08-08T19:36:29.734Z"
   },
   {
    "duration": 0,
    "start_time": "2023-08-08T19:36:29.735Z"
   },
   {
    "duration": 0,
    "start_time": "2023-08-08T19:36:29.736Z"
   },
   {
    "duration": 0,
    "start_time": "2023-08-08T19:36:29.737Z"
   },
   {
    "duration": 0,
    "start_time": "2023-08-08T19:36:29.738Z"
   },
   {
    "duration": 0,
    "start_time": "2023-08-08T19:36:29.739Z"
   },
   {
    "duration": 0,
    "start_time": "2023-08-08T19:36:29.740Z"
   },
   {
    "duration": 1289,
    "start_time": "2023-08-08T19:36:56.678Z"
   },
   {
    "duration": 690,
    "start_time": "2023-08-08T19:36:57.969Z"
   },
   {
    "duration": 4,
    "start_time": "2023-08-08T19:36:58.661Z"
   },
   {
    "duration": 597,
    "start_time": "2023-08-08T19:36:58.667Z"
   },
   {
    "duration": 24,
    "start_time": "2023-08-08T19:36:59.266Z"
   },
   {
    "duration": 161,
    "start_time": "2023-08-08T19:36:59.292Z"
   },
   {
    "duration": 136,
    "start_time": "2023-08-08T19:36:59.456Z"
   },
   {
    "duration": 11,
    "start_time": "2023-08-08T19:36:59.609Z"
   },
   {
    "duration": 32,
    "start_time": "2023-08-08T19:36:59.621Z"
   },
   {
    "duration": 71,
    "start_time": "2023-08-08T19:36:59.655Z"
   },
   {
    "duration": 144,
    "start_time": "2023-08-08T19:36:59.728Z"
   },
   {
    "duration": 7,
    "start_time": "2023-08-08T19:36:59.874Z"
   },
   {
    "duration": 17,
    "start_time": "2023-08-08T19:36:59.883Z"
   },
   {
    "duration": 57,
    "start_time": "2023-08-08T19:36:59.901Z"
   },
   {
    "duration": 19,
    "start_time": "2023-08-08T19:36:59.960Z"
   },
   {
    "duration": 169,
    "start_time": "2023-08-08T19:36:59.981Z"
   },
   {
    "duration": 53,
    "start_time": "2023-08-08T19:37:00.152Z"
   },
   {
    "duration": 52,
    "start_time": "2023-08-08T19:37:00.207Z"
   },
   {
    "duration": 73,
    "start_time": "2023-08-08T19:37:00.262Z"
   },
   {
    "duration": 21,
    "start_time": "2023-08-08T19:37:00.337Z"
   },
   {
    "duration": 91,
    "start_time": "2023-08-08T19:37:00.359Z"
   },
   {
    "duration": 236,
    "start_time": "2023-08-08T19:37:00.452Z"
   },
   {
    "duration": 222,
    "start_time": "2023-08-08T19:37:00.690Z"
   },
   {
    "duration": 68,
    "start_time": "2023-08-08T19:37:00.914Z"
   },
   {
    "duration": 51,
    "start_time": "2023-08-08T19:37:00.984Z"
   },
   {
    "duration": 230,
    "start_time": "2023-08-08T19:37:01.037Z"
   },
   {
    "duration": 5,
    "start_time": "2023-08-08T19:37:01.269Z"
   },
   {
    "duration": 47,
    "start_time": "2023-08-08T19:37:01.277Z"
   },
   {
    "duration": 677,
    "start_time": "2023-08-08T19:37:01.326Z"
   },
   {
    "duration": 239,
    "start_time": "2023-08-08T19:37:02.007Z"
   },
   {
    "duration": 161,
    "start_time": "2023-08-08T19:37:02.247Z"
   },
   {
    "duration": 254,
    "start_time": "2023-08-08T19:37:02.410Z"
   },
   {
    "duration": 11,
    "start_time": "2023-08-08T19:37:02.666Z"
   },
   {
    "duration": 475,
    "start_time": "2023-08-08T19:37:02.678Z"
   },
   {
    "duration": 451,
    "start_time": "2023-08-08T19:37:03.154Z"
   },
   {
    "duration": 24,
    "start_time": "2023-08-08T19:37:03.609Z"
   },
   {
    "duration": 19,
    "start_time": "2023-08-08T19:37:03.634Z"
   },
   {
    "duration": 25,
    "start_time": "2023-08-08T19:37:03.654Z"
   },
   {
    "duration": 47,
    "start_time": "2023-08-08T19:37:03.681Z"
   },
   {
    "duration": 13,
    "start_time": "2023-08-08T19:37:03.730Z"
   },
   {
    "duration": 32,
    "start_time": "2023-08-08T19:37:03.745Z"
   },
   {
    "duration": 11,
    "start_time": "2023-08-08T19:37:03.779Z"
   },
   {
    "duration": 6,
    "start_time": "2023-08-08T19:37:03.809Z"
   },
   {
    "duration": 41,
    "start_time": "2023-08-08T19:37:03.817Z"
   },
   {
    "duration": 7,
    "start_time": "2023-08-08T19:43:03.018Z"
   },
   {
    "duration": 42,
    "start_time": "2023-08-08T19:43:04.739Z"
   },
   {
    "duration": 7,
    "start_time": "2023-08-08T19:43:10.517Z"
   },
   {
    "duration": 55,
    "start_time": "2023-08-08T19:43:12.028Z"
   },
   {
    "duration": 1449,
    "start_time": "2023-08-11T07:20:15.753Z"
   },
   {
    "duration": 643,
    "start_time": "2023-08-11T07:20:17.210Z"
   },
   {
    "duration": 4,
    "start_time": "2023-08-11T07:20:17.855Z"
   },
   {
    "duration": 504,
    "start_time": "2023-08-11T07:20:17.860Z"
   },
   {
    "duration": 46,
    "start_time": "2023-08-11T07:20:18.366Z"
   },
   {
    "duration": 105,
    "start_time": "2023-08-11T07:20:18.414Z"
   },
   {
    "duration": 214,
    "start_time": "2023-08-11T07:20:18.521Z"
   },
   {
    "duration": 201,
    "start_time": "2023-08-11T07:20:18.738Z"
   },
   {
    "duration": 15,
    "start_time": "2023-08-11T07:20:18.942Z"
   },
   {
    "duration": 52,
    "start_time": "2023-08-11T07:20:18.958Z"
   },
   {
    "duration": 91,
    "start_time": "2023-08-11T07:20:19.012Z"
   },
   {
    "duration": 42,
    "start_time": "2023-08-11T07:20:19.104Z"
   },
   {
    "duration": 7,
    "start_time": "2023-08-11T07:20:19.149Z"
   },
   {
    "duration": 73,
    "start_time": "2023-08-11T07:20:19.158Z"
   },
   {
    "duration": 42,
    "start_time": "2023-08-11T07:20:19.233Z"
   },
   {
    "duration": 36,
    "start_time": "2023-08-11T07:20:19.277Z"
   },
   {
    "duration": 43,
    "start_time": "2023-08-11T07:20:19.315Z"
   },
   {
    "duration": 14,
    "start_time": "2023-08-11T07:20:19.361Z"
   },
   {
    "duration": 39,
    "start_time": "2023-08-11T07:20:19.377Z"
   },
   {
    "duration": 27,
    "start_time": "2023-08-11T07:20:19.418Z"
   },
   {
    "duration": 30,
    "start_time": "2023-08-11T07:20:19.447Z"
   },
   {
    "duration": 22,
    "start_time": "2023-08-11T07:20:19.479Z"
   },
   {
    "duration": 46,
    "start_time": "2023-08-11T07:20:19.502Z"
   },
   {
    "duration": 26,
    "start_time": "2023-08-11T07:20:19.550Z"
   },
   {
    "duration": 191,
    "start_time": "2023-08-11T07:20:19.578Z"
   },
   {
    "duration": 0,
    "start_time": "2023-08-11T07:20:19.771Z"
   },
   {
    "duration": 0,
    "start_time": "2023-08-11T07:20:19.772Z"
   },
   {
    "duration": 0,
    "start_time": "2023-08-11T07:20:19.773Z"
   },
   {
    "duration": 0,
    "start_time": "2023-08-11T07:20:19.774Z"
   },
   {
    "duration": 0,
    "start_time": "2023-08-11T07:20:19.775Z"
   },
   {
    "duration": 0,
    "start_time": "2023-08-11T07:20:19.776Z"
   },
   {
    "duration": 0,
    "start_time": "2023-08-11T07:20:19.777Z"
   },
   {
    "duration": 0,
    "start_time": "2023-08-11T07:20:19.778Z"
   },
   {
    "duration": 0,
    "start_time": "2023-08-11T07:20:19.779Z"
   },
   {
    "duration": 0,
    "start_time": "2023-08-11T07:20:19.780Z"
   },
   {
    "duration": 0,
    "start_time": "2023-08-11T07:20:19.780Z"
   },
   {
    "duration": 0,
    "start_time": "2023-08-11T07:20:19.782Z"
   },
   {
    "duration": 0,
    "start_time": "2023-08-11T07:20:19.783Z"
   },
   {
    "duration": 0,
    "start_time": "2023-08-11T07:20:19.800Z"
   },
   {
    "duration": 0,
    "start_time": "2023-08-11T07:20:19.801Z"
   },
   {
    "duration": 0,
    "start_time": "2023-08-11T07:20:19.802Z"
   },
   {
    "duration": 0,
    "start_time": "2023-08-11T07:20:19.803Z"
   },
   {
    "duration": 0,
    "start_time": "2023-08-11T07:20:19.804Z"
   },
   {
    "duration": 0,
    "start_time": "2023-08-11T07:20:19.805Z"
   },
   {
    "duration": 0,
    "start_time": "2023-08-11T07:20:19.807Z"
   },
   {
    "duration": 0,
    "start_time": "2023-08-11T07:20:19.808Z"
   },
   {
    "duration": 0,
    "start_time": "2023-08-11T07:20:19.809Z"
   },
   {
    "duration": 0,
    "start_time": "2023-08-11T07:20:19.811Z"
   },
   {
    "duration": 0,
    "start_time": "2023-08-11T07:20:19.812Z"
   },
   {
    "duration": 0,
    "start_time": "2023-08-11T07:20:19.813Z"
   },
   {
    "duration": 0,
    "start_time": "2023-08-11T07:20:19.814Z"
   },
   {
    "duration": 39381,
    "start_time": "2023-08-11T07:20:35.864Z"
   },
   {
    "duration": 1213,
    "start_time": "2023-08-11T07:21:52.318Z"
   },
   {
    "duration": 563,
    "start_time": "2023-08-11T07:21:53.533Z"
   },
   {
    "duration": 4,
    "start_time": "2023-08-11T07:21:54.097Z"
   },
   {
    "duration": 365,
    "start_time": "2023-08-11T07:21:54.104Z"
   },
   {
    "duration": 48,
    "start_time": "2023-08-11T07:21:54.471Z"
   },
   {
    "duration": 81,
    "start_time": "2023-08-11T07:21:54.521Z"
   },
   {
    "duration": 133,
    "start_time": "2023-08-11T07:21:54.604Z"
   },
   {
    "duration": 132,
    "start_time": "2023-08-11T07:21:54.739Z"
   },
   {
    "duration": 29,
    "start_time": "2023-08-11T07:21:54.872Z"
   },
   {
    "duration": 22,
    "start_time": "2023-08-11T07:21:54.904Z"
   },
   {
    "duration": 77,
    "start_time": "2023-08-11T07:21:54.928Z"
   },
   {
    "duration": 36,
    "start_time": "2023-08-11T07:21:55.007Z"
   },
   {
    "duration": 24,
    "start_time": "2023-08-11T07:21:55.045Z"
   },
   {
    "duration": 48,
    "start_time": "2023-08-11T07:21:55.071Z"
   },
   {
    "duration": 31,
    "start_time": "2023-08-11T07:21:55.121Z"
   },
   {
    "duration": 15,
    "start_time": "2023-08-11T07:21:55.154Z"
   },
   {
    "duration": 54,
    "start_time": "2023-08-11T07:21:55.170Z"
   },
   {
    "duration": 12,
    "start_time": "2023-08-11T07:21:55.226Z"
   },
   {
    "duration": 14,
    "start_time": "2023-08-11T07:21:55.239Z"
   },
   {
    "duration": 25,
    "start_time": "2023-08-11T07:21:55.255Z"
   },
   {
    "duration": 37,
    "start_time": "2023-08-11T07:21:55.281Z"
   },
   {
    "duration": 8,
    "start_time": "2023-08-11T07:21:55.320Z"
   },
   {
    "duration": 34,
    "start_time": "2023-08-11T07:21:55.330Z"
   },
   {
    "duration": 17,
    "start_time": "2023-08-11T07:21:55.366Z"
   },
   {
    "duration": 773,
    "start_time": "2023-08-11T07:21:55.384Z"
   },
   {
    "duration": 51,
    "start_time": "2023-08-11T07:21:56.159Z"
   },
   {
    "duration": 107,
    "start_time": "2023-08-11T07:21:56.212Z"
   },
   {
    "duration": 177,
    "start_time": "2023-08-11T07:21:56.324Z"
   },
   {
    "duration": 156,
    "start_time": "2023-08-11T07:21:56.503Z"
   },
   {
    "duration": 4,
    "start_time": "2023-08-11T07:21:56.661Z"
   },
   {
    "duration": 8,
    "start_time": "2023-08-11T07:21:56.667Z"
   },
   {
    "duration": 88,
    "start_time": "2023-08-11T07:21:56.677Z"
   },
   {
    "duration": 165,
    "start_time": "2023-08-11T07:21:56.767Z"
   },
   {
    "duration": 172,
    "start_time": "2023-08-11T07:21:56.934Z"
   },
   {
    "duration": 393,
    "start_time": "2023-08-11T07:21:57.108Z"
   },
   {
    "duration": 13,
    "start_time": "2023-08-11T07:21:57.504Z"
   },
   {
    "duration": 33,
    "start_time": "2023-08-11T07:21:57.519Z"
   },
   {
    "duration": 82,
    "start_time": "2023-08-11T07:21:57.554Z"
   },
   {
    "duration": 73,
    "start_time": "2023-08-11T07:21:57.638Z"
   },
   {
    "duration": 23,
    "start_time": "2023-08-11T07:21:57.713Z"
   },
   {
    "duration": 32,
    "start_time": "2023-08-11T07:21:57.737Z"
   },
   {
    "duration": 15,
    "start_time": "2023-08-11T07:21:57.800Z"
   },
   {
    "duration": 17,
    "start_time": "2023-08-11T07:21:57.816Z"
   },
   {
    "duration": 23,
    "start_time": "2023-08-11T07:21:57.835Z"
   },
   {
    "duration": 7,
    "start_time": "2023-08-11T07:21:57.860Z"
   },
   {
    "duration": 21,
    "start_time": "2023-08-11T07:21:57.869Z"
   },
   {
    "duration": 13,
    "start_time": "2023-08-11T07:21:57.892Z"
   },
   {
    "duration": 6,
    "start_time": "2023-08-11T07:21:57.907Z"
   },
   {
    "duration": 15,
    "start_time": "2023-08-11T07:21:57.915Z"
   },
   {
    "duration": 7,
    "start_time": "2023-08-11T07:21:57.934Z"
   },
   {
    "duration": 40,
    "start_time": "2023-08-11T07:21:57.942Z"
   }
  ],
  "kernelspec": {
   "display_name": "Python 3 (ipykernel)",
   "language": "python",
   "name": "python3"
  },
  "language_info": {
   "codemirror_mode": {
    "name": "ipython",
    "version": 3
   },
   "file_extension": ".py",
   "mimetype": "text/x-python",
   "name": "python",
   "nbconvert_exporter": "python",
   "pygments_lexer": "ipython3",
   "version": "3.9.13"
  },
  "toc": {
   "base_numbering": 1,
   "nav_menu": {},
   "number_sections": true,
   "sideBar": true,
   "skip_h1_title": true,
   "title_cell": "Table of Contents",
   "title_sidebar": "Contents",
   "toc_cell": false,
   "toc_position": {},
   "toc_section_display": true,
   "toc_window_display": false
  }
 },
 "nbformat": 4,
 "nbformat_minor": 5
}
